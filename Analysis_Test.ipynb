{
 "cells": [
  {
   "cell_type": "markdown",
   "id": "55ba99ed",
   "metadata": {},
   "source": [
    "# Read Data"
   ]
  },
  {
   "cell_type": "code",
   "execution_count": 1,
   "id": "994d25b6",
   "metadata": {},
   "outputs": [],
   "source": [
    "import pandas as pd\n",
    "import numpy as np"
   ]
  },
  {
   "cell_type": "code",
   "execution_count": 2,
   "id": "524c1c08",
   "metadata": {},
   "outputs": [
    {
     "data": {
      "text/html": [
       "<div>\n",
       "<style scoped>\n",
       "    .dataframe tbody tr th:only-of-type {\n",
       "        vertical-align: middle;\n",
       "    }\n",
       "\n",
       "    .dataframe tbody tr th {\n",
       "        vertical-align: top;\n",
       "    }\n",
       "\n",
       "    .dataframe thead th {\n",
       "        text-align: right;\n",
       "    }\n",
       "</style>\n",
       "<table border=\"1\" class=\"dataframe\">\n",
       "  <thead>\n",
       "    <tr style=\"text-align: right;\">\n",
       "      <th></th>\n",
       "      <th>ride_id</th>\n",
       "      <th>cancel_by</th>\n",
       "      <th>cancel_reason</th>\n",
       "    </tr>\n",
       "  </thead>\n",
       "  <tbody>\n",
       "    <tr>\n",
       "      <th>0</th>\n",
       "      <td>R1</td>\n",
       "      <td>rider</td>\n",
       "      <td>driver_declined</td>\n",
       "    </tr>\n",
       "    <tr>\n",
       "      <th>1</th>\n",
       "      <td>R2</td>\n",
       "      <td>rider</td>\n",
       "      <td>changed_mind</td>\n",
       "    </tr>\n",
       "    <tr>\n",
       "      <th>2</th>\n",
       "      <td>R3</td>\n",
       "      <td>driver</td>\n",
       "      <td>no_driver_found</td>\n",
       "    </tr>\n",
       "    <tr>\n",
       "      <th>3</th>\n",
       "      <td>R4</td>\n",
       "      <td>driver</td>\n",
       "      <td>changed_mind</td>\n",
       "    </tr>\n",
       "    <tr>\n",
       "      <th>4</th>\n",
       "      <td>R5</td>\n",
       "      <td>rider</td>\n",
       "      <td>no_driver_found</td>\n",
       "    </tr>\n",
       "  </tbody>\n",
       "</table>\n",
       "</div>"
      ],
      "text/plain": [
       "  ride_id cancel_by    cancel_reason\n",
       "0      R1     rider  driver_declined\n",
       "1      R2     rider     changed_mind\n",
       "2      R3    driver  no_driver_found\n",
       "3      R4    driver     changed_mind\n",
       "4      R5     rider  no_driver_found"
      ]
     },
     "execution_count": 2,
     "metadata": {},
     "output_type": "execute_result"
    }
   ],
   "source": [
    "cancel_df = pd.read_csv('cancellations.csv')\n",
    "cancel_df.head(5)"
   ]
  },
  {
   "cell_type": "code",
   "execution_count": 3,
   "id": "ca93e920",
   "metadata": {},
   "outputs": [
    {
     "data": {
      "text/plain": [
       "500"
      ]
     },
     "execution_count": 3,
     "metadata": {},
     "output_type": "execute_result"
    }
   ],
   "source": [
    "cancel_df['ride_id'].nunique()"
   ]
  },
  {
   "cell_type": "code",
   "execution_count": 4,
   "id": "3ea1b813",
   "metadata": {},
   "outputs": [
    {
     "data": {
      "text/plain": [
       "cancel_reason\n",
       "long_wait          130\n",
       "driver_declined    129\n",
       "changed_mind       125\n",
       "no_driver_found    116\n",
       "Name: count, dtype: int64"
      ]
     },
     "execution_count": 4,
     "metadata": {},
     "output_type": "execute_result"
    }
   ],
   "source": [
    "cancel_df['cancel_reason'].value_counts()"
   ]
  },
  {
   "cell_type": "code",
   "execution_count": 5,
   "id": "4ca70e01",
   "metadata": {},
   "outputs": [
    {
     "data": {
      "text/plain": [
       "(500, 3)"
      ]
     },
     "execution_count": 5,
     "metadata": {},
     "output_type": "execute_result"
    }
   ],
   "source": [
    "cancel_df.shape"
   ]
  },
  {
   "cell_type": "code",
   "execution_count": 6,
   "id": "6b1923c0",
   "metadata": {},
   "outputs": [
    {
     "data": {
      "text/html": [
       "<div>\n",
       "<style scoped>\n",
       "    .dataframe tbody tr th:only-of-type {\n",
       "        vertical-align: middle;\n",
       "    }\n",
       "\n",
       "    .dataframe tbody tr th {\n",
       "        vertical-align: top;\n",
       "    }\n",
       "\n",
       "    .dataframe thead th {\n",
       "        text-align: right;\n",
       "    }\n",
       "</style>\n",
       "<table border=\"1\" class=\"dataframe\">\n",
       "  <thead>\n",
       "    <tr style=\"text-align: right;\">\n",
       "      <th></th>\n",
       "      <th>driver_id</th>\n",
       "      <th>dropoff_time</th>\n",
       "      <th>dropoff_location</th>\n",
       "      <th>trip_progress_pct</th>\n",
       "    </tr>\n",
       "  </thead>\n",
       "  <tbody>\n",
       "    <tr>\n",
       "      <th>0</th>\n",
       "      <td>D1</td>\n",
       "      <td>2024-11-03 10:43:00</td>\n",
       "      <td>HN Outskirt 2</td>\n",
       "      <td>0.561488</td>\n",
       "    </tr>\n",
       "    <tr>\n",
       "      <th>1</th>\n",
       "      <td>D2</td>\n",
       "      <td>2024-11-03 12:03:00</td>\n",
       "      <td>HN Outskirt 2</td>\n",
       "      <td>0.335342</td>\n",
       "    </tr>\n",
       "    <tr>\n",
       "      <th>2</th>\n",
       "      <td>D3</td>\n",
       "      <td>2024-11-01 11:34:00</td>\n",
       "      <td>HCM Outskskirt 2</td>\n",
       "      <td>0.739241</td>\n",
       "    </tr>\n",
       "    <tr>\n",
       "      <th>3</th>\n",
       "      <td>D4</td>\n",
       "      <td>2024-11-03 02:53:00</td>\n",
       "      <td>HN Outskirt 2</td>\n",
       "      <td>0.569929</td>\n",
       "    </tr>\n",
       "    <tr>\n",
       "      <th>4</th>\n",
       "      <td>D5</td>\n",
       "      <td>2024-11-04 09:41:00</td>\n",
       "      <td>HN Outskirt 2</td>\n",
       "      <td>0.955387</td>\n",
       "    </tr>\n",
       "  </tbody>\n",
       "</table>\n",
       "</div>"
      ],
      "text/plain": [
       "  driver_id         dropoff_time  dropoff_location  trip_progress_pct\n",
       "0        D1  2024-11-03 10:43:00     HN Outskirt 2           0.561488\n",
       "1        D2  2024-11-03 12:03:00     HN Outskirt 2           0.335342\n",
       "2        D3  2024-11-01 11:34:00  HCM Outskskirt 2           0.739241\n",
       "3        D4  2024-11-03 02:53:00     HN Outskirt 2           0.569929\n",
       "4        D5  2024-11-04 09:41:00     HN Outskirt 2           0.955387"
      ]
     },
     "execution_count": 6,
     "metadata": {},
     "output_type": "execute_result"
    }
   ],
   "source": [
    "drivers_on_trip_df = pd.read_csv('drivers_on_trip.csv')\n",
    "drivers_on_trip_df.head(5)"
   ]
  },
  {
   "cell_type": "code",
   "execution_count": 7,
   "id": "2b5e81ff",
   "metadata": {},
   "outputs": [
    {
     "data": {
      "text/html": [
       "<div>\n",
       "<style scoped>\n",
       "    .dataframe tbody tr th:only-of-type {\n",
       "        vertical-align: middle;\n",
       "    }\n",
       "\n",
       "    .dataframe tbody tr th {\n",
       "        vertical-align: top;\n",
       "    }\n",
       "\n",
       "    .dataframe thead th {\n",
       "        text-align: right;\n",
       "    }\n",
       "</style>\n",
       "<table border=\"1\" class=\"dataframe\">\n",
       "  <thead>\n",
       "    <tr style=\"text-align: right;\">\n",
       "      <th></th>\n",
       "      <th>driver_id</th>\n",
       "      <th>dropoff_time</th>\n",
       "      <th>dropoff_location</th>\n",
       "      <th>trip_progress_pct</th>\n",
       "    </tr>\n",
       "  </thead>\n",
       "  <tbody>\n",
       "    <tr>\n",
       "      <th>0</th>\n",
       "      <td>D1</td>\n",
       "      <td>2024-11-03 10:43:00</td>\n",
       "      <td>HN Outskirt 2</td>\n",
       "      <td>0.561488</td>\n",
       "    </tr>\n",
       "  </tbody>\n",
       "</table>\n",
       "</div>"
      ],
      "text/plain": [
       "  driver_id         dropoff_time dropoff_location  trip_progress_pct\n",
       "0        D1  2024-11-03 10:43:00    HN Outskirt 2           0.561488"
      ]
     },
     "execution_count": 7,
     "metadata": {},
     "output_type": "execute_result"
    }
   ],
   "source": [
    "drivers_on_trip_df[drivers_on_trip_df['driver_id'] == 'D1']"
   ]
  },
  {
   "cell_type": "code",
   "execution_count": 8,
   "id": "0a6db9be",
   "metadata": {},
   "outputs": [
    {
     "data": {
      "text/plain": [
       "(1000, 4)"
      ]
     },
     "execution_count": 8,
     "metadata": {},
     "output_type": "execute_result"
    }
   ],
   "source": [
    "drivers_on_trip_df.shape"
   ]
  },
  {
   "cell_type": "code",
   "execution_count": 9,
   "id": "2fe69255",
   "metadata": {},
   "outputs": [
    {
     "data": {
      "text/html": [
       "<div>\n",
       "<style scoped>\n",
       "    .dataframe tbody tr th:only-of-type {\n",
       "        vertical-align: middle;\n",
       "    }\n",
       "\n",
       "    .dataframe tbody tr th {\n",
       "        vertical-align: top;\n",
       "    }\n",
       "\n",
       "    .dataframe thead th {\n",
       "        text-align: right;\n",
       "    }\n",
       "</style>\n",
       "<table border=\"1\" class=\"dataframe\">\n",
       "  <thead>\n",
       "    <tr style=\"text-align: right;\">\n",
       "      <th></th>\n",
       "      <th>session_id</th>\n",
       "      <th>matched_driver_id</th>\n",
       "      <th>dispatch_time</th>\n",
       "      <th>dispatch_type</th>\n",
       "      <th>eta</th>\n",
       "      <th>accept_distance</th>\n",
       "    </tr>\n",
       "  </thead>\n",
       "  <tbody>\n",
       "    <tr>\n",
       "      <th>0</th>\n",
       "      <td>S303</td>\n",
       "      <td>D155</td>\n",
       "      <td>2024-11-01 20:44:00</td>\n",
       "      <td>forward</td>\n",
       "      <td>5.40</td>\n",
       "      <td>1.78</td>\n",
       "    </tr>\n",
       "    <tr>\n",
       "      <th>1</th>\n",
       "      <td>S421</td>\n",
       "      <td>D565</td>\n",
       "      <td>2024-11-04 12:21:00</td>\n",
       "      <td>legacy</td>\n",
       "      <td>7.57</td>\n",
       "      <td>2.14</td>\n",
       "    </tr>\n",
       "    <tr>\n",
       "      <th>2</th>\n",
       "      <td>S1270</td>\n",
       "      <td>D619</td>\n",
       "      <td>2024-11-04 06:25:00</td>\n",
       "      <td>legacy</td>\n",
       "      <td>2.33</td>\n",
       "      <td>2.59</td>\n",
       "    </tr>\n",
       "    <tr>\n",
       "      <th>3</th>\n",
       "      <td>S1744</td>\n",
       "      <td>D357</td>\n",
       "      <td>2024-11-01 00:16:00</td>\n",
       "      <td>forward</td>\n",
       "      <td>4.53</td>\n",
       "      <td>4.91</td>\n",
       "    </tr>\n",
       "    <tr>\n",
       "      <th>4</th>\n",
       "      <td>S1261</td>\n",
       "      <td>D816</td>\n",
       "      <td>2024-11-01 22:58:00</td>\n",
       "      <td>legacy</td>\n",
       "      <td>6.25</td>\n",
       "      <td>1.28</td>\n",
       "    </tr>\n",
       "  </tbody>\n",
       "</table>\n",
       "</div>"
      ],
      "text/plain": [
       "  session_id matched_driver_id        dispatch_time dispatch_type   eta  \\\n",
       "0       S303              D155  2024-11-01 20:44:00       forward  5.40   \n",
       "1       S421              D565  2024-11-04 12:21:00        legacy  7.57   \n",
       "2      S1270              D619  2024-11-04 06:25:00        legacy  2.33   \n",
       "3      S1744              D357  2024-11-01 00:16:00       forward  4.53   \n",
       "4      S1261              D816  2024-11-01 22:58:00        legacy  6.25   \n",
       "\n",
       "   accept_distance  \n",
       "0             1.78  \n",
       "1             2.14  \n",
       "2             2.59  \n",
       "3             4.91  \n",
       "4             1.28  "
      ]
     },
     "execution_count": 9,
     "metadata": {},
     "output_type": "execute_result"
    }
   ],
   "source": [
    "ride_requests_df = pd.read_csv('ride_requests.csv')\n",
    "ride_requests_df.head(5)"
   ]
  },
  {
   "cell_type": "code",
   "execution_count": 10,
   "id": "537abd1e",
   "metadata": {},
   "outputs": [
    {
     "data": {
      "text/plain": [
       "(1800, 6)"
      ]
     },
     "execution_count": 10,
     "metadata": {},
     "output_type": "execute_result"
    }
   ],
   "source": [
    "ride_requests_df.shape"
   ]
  },
  {
   "cell_type": "code",
   "execution_count": 11,
   "id": "1f86c5de",
   "metadata": {},
   "outputs": [
    {
     "data": {
      "text/html": [
       "<div>\n",
       "<style scoped>\n",
       "    .dataframe tbody tr th:only-of-type {\n",
       "        vertical-align: middle;\n",
       "    }\n",
       "\n",
       "    .dataframe tbody tr th {\n",
       "        vertical-align: top;\n",
       "    }\n",
       "\n",
       "    .dataframe thead th {\n",
       "        text-align: right;\n",
       "    }\n",
       "</style>\n",
       "<table border=\"1\" class=\"dataframe\">\n",
       "  <thead>\n",
       "    <tr style=\"text-align: right;\">\n",
       "      <th></th>\n",
       "      <th>session_id</th>\n",
       "      <th>region</th>\n",
       "      <th>vehicle_type</th>\n",
       "      <th>created_time</th>\n",
       "      <th>expired_time</th>\n",
       "    </tr>\n",
       "  </thead>\n",
       "  <tbody>\n",
       "    <tr>\n",
       "      <th>0</th>\n",
       "      <td>S1</td>\n",
       "      <td>HN Outskirt 1</td>\n",
       "      <td>6</td>\n",
       "      <td>2024-11-01 00:47:00</td>\n",
       "      <td>2024-11-01 00:50:26</td>\n",
       "    </tr>\n",
       "    <tr>\n",
       "      <th>1</th>\n",
       "      <td>S2</td>\n",
       "      <td>HN Outskirt 2</td>\n",
       "      <td>3</td>\n",
       "      <td>2024-11-03 07:14:00</td>\n",
       "      <td>2024-11-03 07:22:47</td>\n",
       "    </tr>\n",
       "    <tr>\n",
       "      <th>2</th>\n",
       "      <td>S3</td>\n",
       "      <td>HCM Outskirt 1</td>\n",
       "      <td>49</td>\n",
       "      <td>2024-11-02 23:06:00</td>\n",
       "      <td>2024-11-02 23:10:22</td>\n",
       "    </tr>\n",
       "    <tr>\n",
       "      <th>3</th>\n",
       "      <td>S4</td>\n",
       "      <td>HN Outskirt 1</td>\n",
       "      <td>9</td>\n",
       "      <td>2024-11-01 18:27:00</td>\n",
       "      <td>2024-11-01 18:34:00</td>\n",
       "    </tr>\n",
       "    <tr>\n",
       "      <th>4</th>\n",
       "      <td>S5</td>\n",
       "      <td>HN Outskirt 1</td>\n",
       "      <td>49</td>\n",
       "      <td>2024-11-01 00:05:00</td>\n",
       "      <td>2024-11-01 00:08:02</td>\n",
       "    </tr>\n",
       "  </tbody>\n",
       "</table>\n",
       "</div>"
      ],
      "text/plain": [
       "  session_id          region  vehicle_type         created_time  \\\n",
       "0         S1   HN Outskirt 1             6  2024-11-01 00:47:00   \n",
       "1         S2   HN Outskirt 2             3  2024-11-03 07:14:00   \n",
       "2         S3  HCM Outskirt 1            49  2024-11-02 23:06:00   \n",
       "3         S4   HN Outskirt 1             9  2024-11-01 18:27:00   \n",
       "4         S5   HN Outskirt 1            49  2024-11-01 00:05:00   \n",
       "\n",
       "          expired_time  \n",
       "0  2024-11-01 00:50:26  \n",
       "1  2024-11-03 07:22:47  \n",
       "2  2024-11-02 23:10:22  \n",
       "3  2024-11-01 18:34:00  \n",
       "4  2024-11-01 00:08:02  "
      ]
     },
     "execution_count": 11,
     "metadata": {},
     "output_type": "execute_result"
    }
   ],
   "source": [
    "zero_session_df = pd.read_csv('zero_sessions.csv')\n",
    "zero_session_df.head(5)"
   ]
  },
  {
   "cell_type": "code",
   "execution_count": 12,
   "id": "4d400114",
   "metadata": {},
   "outputs": [
    {
     "data": {
      "text/plain": [
       "(2000, 5)"
      ]
     },
     "execution_count": 12,
     "metadata": {},
     "output_type": "execute_result"
    }
   ],
   "source": [
    "zero_session_df.shape"
   ]
  },
  {
   "cell_type": "markdown",
   "id": "2d5fdcb1",
   "metadata": {},
   "source": [
    "# Analysis"
   ]
  },
  {
   "cell_type": "markdown",
   "id": "c9b4ccf4",
   "metadata": {},
   "source": [
    "### Zero Session"
   ]
  },
  {
   "cell_type": "code",
   "execution_count": 13,
   "id": "a3a8ace3",
   "metadata": {},
   "outputs": [],
   "source": [
    "# Q1: Zero Valid Rate for Bike and Car transport across different outskirts."
   ]
  },
  {
   "cell_type": "code",
   "execution_count": 14,
   "id": "8597c490",
   "metadata": {},
   "outputs": [],
   "source": [
    "# 1. Create ride_id\n",
    "# -------------------------\n",
    "ride_requests = ride_requests_df.copy()\n",
    "ride_requests[\"ride_id\"] = [\"R\" + str(i+1) for i in range(len(ride_requests))]"
   ]
  },
  {
   "cell_type": "code",
   "execution_count": 15,
   "id": "0bb71236",
   "metadata": {},
   "outputs": [],
   "source": [
    "# 2. Merge zero_sessions with ride_requests\n",
    "# -------------------------\n",
    "zero_sessions = zero_session_df.merge(\n",
    "    ride_requests[[\"session_id\", \"ride_id\", \"matched_driver_id\"]],\n",
    "    on=\"session_id\",\n",
    "    how=\"left\"\n",
    ")"
   ]
  },
  {
   "cell_type": "code",
   "execution_count": 16,
   "id": "4a666ec2",
   "metadata": {},
   "outputs": [],
   "source": [
    "# 3. Check driver availability\n",
    "# -------------------------\n",
    "# Assume: if a driver_id appears in drivers_on_trip, that driver is active.\n",
    "# Logic: if matched_driver_id is NaN but driver_id exists in drivers_on_trip, then session is NOT a valid zero.\n",
    "zero_sessions[\"driver_active\"] = zero_sessions[\"matched_driver_id\"].isin(drivers_on_trip_df[\"driver_id\"])"
   ]
  },
  {
   "cell_type": "code",
   "execution_count": 17,
   "id": "ffaca7df",
   "metadata": {},
   "outputs": [],
   "source": [
    "# 4. Check cancellations\n",
    "# -------------------------\n",
    "zero_sessions = zero_sessions.merge(\n",
    "    cancel_df[[\"ride_id\", \"cancel_by\"]],\n",
    "    on=\"ride_id\",\n",
    "    how=\"left\"\n",
    ")\n",
    "\n",
    "zero_sessions[\"was_cancelled\"] = zero_sessions[\"cancel_by\"].notna()"
   ]
  },
  {
   "cell_type": "code",
   "execution_count": 18,
   "id": "e34764c1",
   "metadata": {},
   "outputs": [],
   "source": [
    "# 5. Define valid zero\n",
    "# -------------------------\n",
    "zero_sessions[\"is_valid_zero\"] = (\n",
    "    zero_sessions[\"matched_driver_id\"].isna() &       # no driver matched\n",
    "    ~zero_sessions[\"driver_active\"] &                 # no active driver\n",
    "    ~zero_sessions[\"was_cancelled\"]                   # no cancellation\n",
    ")"
   ]
  },
  {
   "cell_type": "code",
   "execution_count": 19,
   "id": "24dc8cf4",
   "metadata": {},
   "outputs": [
    {
     "data": {
      "text/html": [
       "<div>\n",
       "<style scoped>\n",
       "    .dataframe tbody tr th:only-of-type {\n",
       "        vertical-align: middle;\n",
       "    }\n",
       "\n",
       "    .dataframe tbody tr th {\n",
       "        vertical-align: top;\n",
       "    }\n",
       "\n",
       "    .dataframe thead th {\n",
       "        text-align: right;\n",
       "    }\n",
       "</style>\n",
       "<table border=\"1\" class=\"dataframe\">\n",
       "  <thead>\n",
       "    <tr style=\"text-align: right;\">\n",
       "      <th></th>\n",
       "      <th>session_id</th>\n",
       "      <th>region</th>\n",
       "      <th>vehicle_type</th>\n",
       "      <th>created_time</th>\n",
       "      <th>expired_time</th>\n",
       "      <th>ride_id</th>\n",
       "      <th>matched_driver_id</th>\n",
       "      <th>driver_active</th>\n",
       "      <th>cancel_by</th>\n",
       "      <th>was_cancelled</th>\n",
       "      <th>is_valid_zero</th>\n",
       "    </tr>\n",
       "  </thead>\n",
       "  <tbody>\n",
       "    <tr>\n",
       "      <th>0</th>\n",
       "      <td>S1</td>\n",
       "      <td>HN Outskirt 1</td>\n",
       "      <td>6</td>\n",
       "      <td>2024-11-01 00:47:00</td>\n",
       "      <td>2024-11-01 00:50:26</td>\n",
       "      <td>R601</td>\n",
       "      <td>D71</td>\n",
       "      <td>True</td>\n",
       "      <td>NaN</td>\n",
       "      <td>False</td>\n",
       "      <td>False</td>\n",
       "    </tr>\n",
       "    <tr>\n",
       "      <th>1</th>\n",
       "      <td>S1</td>\n",
       "      <td>HN Outskirt 1</td>\n",
       "      <td>6</td>\n",
       "      <td>2024-11-01 00:47:00</td>\n",
       "      <td>2024-11-01 00:50:26</td>\n",
       "      <td>R844</td>\n",
       "      <td>D486</td>\n",
       "      <td>True</td>\n",
       "      <td>NaN</td>\n",
       "      <td>False</td>\n",
       "      <td>False</td>\n",
       "    </tr>\n",
       "    <tr>\n",
       "      <th>2</th>\n",
       "      <td>S1</td>\n",
       "      <td>HN Outskirt 1</td>\n",
       "      <td>6</td>\n",
       "      <td>2024-11-01 00:47:00</td>\n",
       "      <td>2024-11-01 00:50:26</td>\n",
       "      <td>R1105</td>\n",
       "      <td>D551</td>\n",
       "      <td>True</td>\n",
       "      <td>NaN</td>\n",
       "      <td>False</td>\n",
       "      <td>False</td>\n",
       "    </tr>\n",
       "    <tr>\n",
       "      <th>3</th>\n",
       "      <td>S2</td>\n",
       "      <td>HN Outskirt 2</td>\n",
       "      <td>3</td>\n",
       "      <td>2024-11-03 07:14:00</td>\n",
       "      <td>2024-11-03 07:22:47</td>\n",
       "      <td>R1451</td>\n",
       "      <td>D238</td>\n",
       "      <td>True</td>\n",
       "      <td>NaN</td>\n",
       "      <td>False</td>\n",
       "      <td>False</td>\n",
       "    </tr>\n",
       "    <tr>\n",
       "      <th>4</th>\n",
       "      <td>S3</td>\n",
       "      <td>HCM Outskirt 1</td>\n",
       "      <td>49</td>\n",
       "      <td>2024-11-02 23:06:00</td>\n",
       "      <td>2024-11-02 23:10:22</td>\n",
       "      <td>R1130</td>\n",
       "      <td>D51</td>\n",
       "      <td>True</td>\n",
       "      <td>NaN</td>\n",
       "      <td>False</td>\n",
       "      <td>False</td>\n",
       "    </tr>\n",
       "  </tbody>\n",
       "</table>\n",
       "</div>"
      ],
      "text/plain": [
       "  session_id          region  vehicle_type         created_time  \\\n",
       "0         S1   HN Outskirt 1             6  2024-11-01 00:47:00   \n",
       "1         S1   HN Outskirt 1             6  2024-11-01 00:47:00   \n",
       "2         S1   HN Outskirt 1             6  2024-11-01 00:47:00   \n",
       "3         S2   HN Outskirt 2             3  2024-11-03 07:14:00   \n",
       "4         S3  HCM Outskirt 1            49  2024-11-02 23:06:00   \n",
       "\n",
       "          expired_time ride_id matched_driver_id  driver_active cancel_by  \\\n",
       "0  2024-11-01 00:50:26    R601               D71           True       NaN   \n",
       "1  2024-11-01 00:50:26    R844              D486           True       NaN   \n",
       "2  2024-11-01 00:50:26   R1105              D551           True       NaN   \n",
       "3  2024-11-03 07:22:47   R1451              D238           True       NaN   \n",
       "4  2024-11-02 23:10:22   R1130               D51           True       NaN   \n",
       "\n",
       "   was_cancelled  is_valid_zero  \n",
       "0          False          False  \n",
       "1          False          False  \n",
       "2          False          False  \n",
       "3          False          False  \n",
       "4          False          False  "
      ]
     },
     "execution_count": 19,
     "metadata": {},
     "output_type": "execute_result"
    }
   ],
   "source": [
    "zero_sessions.head()"
   ]
  },
  {
   "cell_type": "code",
   "execution_count": 20,
   "id": "28226e3f",
   "metadata": {},
   "outputs": [
    {
     "name": "stdout",
     "output_type": "stream",
     "text": [
      "             region vehicle_label  total_zero  valid_zero  zero_valid_rate\n",
      "0    HCM Outskirt 1          Bike         404         141         0.349010\n",
      "1    HCM Outskirt 1           Car         278          80         0.287770\n",
      "2  HCM Outskskirt 2          Bike         343         120         0.349854\n",
      "3  HCM Outskskirt 2           Car         289          88         0.304498\n",
      "4     HN Outskirt 1          Bike         408         116         0.284314\n",
      "5     HN Outskirt 1           Car         249          87         0.349398\n",
      "6     HN Outskirt 2          Bike         412         114         0.276699\n",
      "7     HN Outskirt 2           Car         244          81         0.331967\n"
     ]
    }
   ],
   "source": [
    "# Map vehicle_type into Bike / Car\n",
    "vehicle_map = {3: \"Bike\", 6: \"Car\", 9: \"Car\", 37: \"Bike\", 49: \"Bike\"}\n",
    "zero_sessions[\"vehicle_label\"] = zero_sessions[\"vehicle_type\"].map(vehicle_map)\n",
    "\n",
    "# Compute metric by vehicle_label and region\n",
    "metrics = (\n",
    "    zero_sessions.groupby([\"region\", \"vehicle_label\"])\n",
    "    .agg(\n",
    "        total_zero=(\"session_id\", \"count\"),\n",
    "        valid_zero=(\"is_valid_zero\", \"sum\")\n",
    "    )\n",
    "    .reset_index()\n",
    ")\n",
    "\n",
    "metrics[\"zero_valid_rate\"] = metrics[\"valid_zero\"] / metrics[\"total_zero\"]\n",
    "\n",
    "print(metrics)"
   ]
  },
  {
   "cell_type": "code",
   "execution_count": 21,
   "id": "7591b97c",
   "metadata": {},
   "outputs": [],
   "source": [
    "import matplotlib.pyplot as plt"
   ]
  },
  {
   "cell_type": "code",
   "execution_count": 22,
   "id": "48885501",
   "metadata": {},
   "outputs": [
    {
     "data": {
      "image/png": "[encoded data removed]",
      "text/plain": [
       "<Figure size 800x500 with 1 Axes>"
      ]
     },
     "metadata": {},
     "output_type": "display_data"
    }
   ],
   "source": [
    "# Pivot to wide format (Car vs Bike per region)\n",
    "# Pivot to wide format (Car vs Bike per region)\n",
    "pivot_df = metrics.pivot(index=\"region\", columns=\"vehicle_label\", values=\"zero_valid_rate\").fillna(0)\n",
    "\n",
    "# Choose vehicle type to sort by\n",
    "sort_vehicle = \"Bike\"   # change to \"Bike\" if needed\n",
    "pivot_df = pivot_df.sort_values(by=sort_vehicle, ascending=True)\n",
    "\n",
    "# Plot twin horizontal bars\n",
    "fig, ax = plt.subplots(figsize=(8, 5))\n",
    "bar_width = 0.4\n",
    "y = range(len(pivot_df))\n",
    "\n",
    "bars_car = ax.barh([i - bar_width/2 for i in y], pivot_df[\"Car\"], height=bar_width, label=\"Car\", color=\"skyblue\")\n",
    "bars_bike = ax.barh([i + bar_width/2 for i in y], pivot_df[\"Bike\"], height=bar_width, label=\"Bike\", color=\"orange\")\n",
    "\n",
    "ax.set_yticks(y)\n",
    "ax.set_yticklabels(pivot_df.index)\n",
    "ax.set_xlabel(\"Zero Valid Rate\")\n",
    "ax.set_ylabel(\"Region\")\n",
    "ax.set_title(\"Zero Valid Rate by Region and Vehicle Type\")\n",
    "ax.legend()\n",
    "\n",
    "# Add labels with 2 decimal places\n",
    "ax.bar_label(bars_car, fmt=\"%.2f\", padding=3)\n",
    "ax.bar_label(bars_bike, fmt=\"%.2f\", padding=3)\n",
    "\n",
    "plt.show()"
   ]
  },
  {
   "cell_type": "code",
   "execution_count": 86,
   "id": "3e07f6a4",
   "metadata": {},
   "outputs": [
    {
     "data": {
      "image/png": "[encoded data removed]",
      "text/plain": [
       "<Figure size 1200x700 with 1 Axes>"
      ]
     },
     "metadata": {},
     "output_type": "display_data"
    }
   ],
   "source": [
    "# Plot twin horizontal bars\n",
    "fig, ax = plt.subplots(figsize=(12, 7))\n",
    "bar_width = 0.4\n",
    "y = range(len(pivot_df))\n",
    "\n",
    "bars_car = ax.barh([i - bar_width/2 for i in y], pivot_df[\"Car\"], height=bar_width, label=\"Car\", color=\"skyblue\")\n",
    "bars_bike = ax.barh([i + bar_width/2 for i in y], pivot_df[\"Bike\"], height=bar_width, label=\"Bike\", color=\"orange\")\n",
    "\n",
    "ax.set_yticks(y)\n",
    "ax.set_yticklabels(pivot_df.index)\n",
    "ax.set_xlabel(\"Zero Valid Rate\")\n",
    "ax.set_ylabel(\"Region\")\n",
    "ax.set_title(\"Zero Valid Rate by Region and Vehicle Type\")\n",
    "\n",
    "# Move legend outside\n",
    "ax.legend(loc=\"center left\", bbox_to_anchor=(1, 0.5))\n",
    "\n",
    "# Add labels with 2 decimal places\n",
    "ax.bar_label(bars_car, fmt=\"%.2f\", padding=3)\n",
    "ax.bar_label(bars_bike, fmt=\"%.2f\", padding=3)\n",
    "\n",
    "plt.tight_layout()\n",
    "plt.show()"
   ]
  },
  {
   "cell_type": "code",
   "execution_count": 23,
   "id": "1a253153",
   "metadata": {},
   "outputs": [],
   "source": [
    "# Q2: Identify trends over weeks for HCM and Hanoi outskirts."
   ]
  },
  {
   "cell_type": "code",
   "execution_count": 24,
   "id": "173722ea",
   "metadata": {},
   "outputs": [],
   "source": [
    "# Ensure created_time is datetime\n",
    "zero_sessions[\"created_time\"] = pd.to_datetime(zero_sessions[\"created_time\"], errors=\"coerce\")\n",
    "\n",
    "# Add week column (week start date)\n",
    "zero_sessions[\"week\"] = zero_sessions[\"created_time\"].dt.to_period(\"W\").apply(lambda r: r.start_time)"
   ]
  },
  {
   "cell_type": "code",
   "execution_count": 25,
   "id": "8a59255f",
   "metadata": {},
   "outputs": [
    {
     "data": {
      "text/html": [
       "<div>\n",
       "<style scoped>\n",
       "    .dataframe tbody tr th:only-of-type {\n",
       "        vertical-align: middle;\n",
       "    }\n",
       "\n",
       "    .dataframe tbody tr th {\n",
       "        vertical-align: top;\n",
       "    }\n",
       "\n",
       "    .dataframe thead th {\n",
       "        text-align: right;\n",
       "    }\n",
       "</style>\n",
       "<table border=\"1\" class=\"dataframe\">\n",
       "  <thead>\n",
       "    <tr style=\"text-align: right;\">\n",
       "      <th></th>\n",
       "      <th>session_id</th>\n",
       "      <th>region</th>\n",
       "      <th>vehicle_type</th>\n",
       "      <th>created_time</th>\n",
       "      <th>expired_time</th>\n",
       "      <th>ride_id</th>\n",
       "      <th>matched_driver_id</th>\n",
       "      <th>driver_active</th>\n",
       "      <th>cancel_by</th>\n",
       "      <th>was_cancelled</th>\n",
       "      <th>is_valid_zero</th>\n",
       "      <th>vehicle_label</th>\n",
       "      <th>week</th>\n",
       "    </tr>\n",
       "  </thead>\n",
       "  <tbody>\n",
       "    <tr>\n",
       "      <th>0</th>\n",
       "      <td>S1</td>\n",
       "      <td>HN Outskirt 1</td>\n",
       "      <td>6</td>\n",
       "      <td>2024-11-01 00:47:00</td>\n",
       "      <td>2024-11-01 00:50:26</td>\n",
       "      <td>R601</td>\n",
       "      <td>D71</td>\n",
       "      <td>True</td>\n",
       "      <td>NaN</td>\n",
       "      <td>False</td>\n",
       "      <td>False</td>\n",
       "      <td>Car</td>\n",
       "      <td>2024-10-28</td>\n",
       "    </tr>\n",
       "    <tr>\n",
       "      <th>1</th>\n",
       "      <td>S1</td>\n",
       "      <td>HN Outskirt 1</td>\n",
       "      <td>6</td>\n",
       "      <td>2024-11-01 00:47:00</td>\n",
       "      <td>2024-11-01 00:50:26</td>\n",
       "      <td>R844</td>\n",
       "      <td>D486</td>\n",
       "      <td>True</td>\n",
       "      <td>NaN</td>\n",
       "      <td>False</td>\n",
       "      <td>False</td>\n",
       "      <td>Car</td>\n",
       "      <td>2024-10-28</td>\n",
       "    </tr>\n",
       "    <tr>\n",
       "      <th>2</th>\n",
       "      <td>S1</td>\n",
       "      <td>HN Outskirt 1</td>\n",
       "      <td>6</td>\n",
       "      <td>2024-11-01 00:47:00</td>\n",
       "      <td>2024-11-01 00:50:26</td>\n",
       "      <td>R1105</td>\n",
       "      <td>D551</td>\n",
       "      <td>True</td>\n",
       "      <td>NaN</td>\n",
       "      <td>False</td>\n",
       "      <td>False</td>\n",
       "      <td>Car</td>\n",
       "      <td>2024-10-28</td>\n",
       "    </tr>\n",
       "    <tr>\n",
       "      <th>3</th>\n",
       "      <td>S2</td>\n",
       "      <td>HN Outskirt 2</td>\n",
       "      <td>3</td>\n",
       "      <td>2024-11-03 07:14:00</td>\n",
       "      <td>2024-11-03 07:22:47</td>\n",
       "      <td>R1451</td>\n",
       "      <td>D238</td>\n",
       "      <td>True</td>\n",
       "      <td>NaN</td>\n",
       "      <td>False</td>\n",
       "      <td>False</td>\n",
       "      <td>Bike</td>\n",
       "      <td>2024-10-28</td>\n",
       "    </tr>\n",
       "    <tr>\n",
       "      <th>4</th>\n",
       "      <td>S3</td>\n",
       "      <td>HCM Outskirt 1</td>\n",
       "      <td>49</td>\n",
       "      <td>2024-11-02 23:06:00</td>\n",
       "      <td>2024-11-02 23:10:22</td>\n",
       "      <td>R1130</td>\n",
       "      <td>D51</td>\n",
       "      <td>True</td>\n",
       "      <td>NaN</td>\n",
       "      <td>False</td>\n",
       "      <td>False</td>\n",
       "      <td>Bike</td>\n",
       "      <td>2024-10-28</td>\n",
       "    </tr>\n",
       "  </tbody>\n",
       "</table>\n",
       "</div>"
      ],
      "text/plain": [
       "  session_id          region  vehicle_type        created_time  \\\n",
       "0         S1   HN Outskirt 1             6 2024-11-01 00:47:00   \n",
       "1         S1   HN Outskirt 1             6 2024-11-01 00:47:00   \n",
       "2         S1   HN Outskirt 1             6 2024-11-01 00:47:00   \n",
       "3         S2   HN Outskirt 2             3 2024-11-03 07:14:00   \n",
       "4         S3  HCM Outskirt 1            49 2024-11-02 23:06:00   \n",
       "\n",
       "          expired_time ride_id matched_driver_id  driver_active cancel_by  \\\n",
       "0  2024-11-01 00:50:26    R601               D71           True       NaN   \n",
       "1  2024-11-01 00:50:26    R844              D486           True       NaN   \n",
       "2  2024-11-01 00:50:26   R1105              D551           True       NaN   \n",
       "3  2024-11-03 07:22:47   R1451              D238           True       NaN   \n",
       "4  2024-11-02 23:10:22   R1130               D51           True       NaN   \n",
       "\n",
       "   was_cancelled  is_valid_zero vehicle_label       week  \n",
       "0          False          False           Car 2024-10-28  \n",
       "1          False          False           Car 2024-10-28  \n",
       "2          False          False           Car 2024-10-28  \n",
       "3          False          False          Bike 2024-10-28  \n",
       "4          False          False          Bike 2024-10-28  "
      ]
     },
     "execution_count": 25,
     "metadata": {},
     "output_type": "execute_result"
    }
   ],
   "source": [
    "zero_sessions.head()"
   ]
  },
  {
   "cell_type": "code",
   "execution_count": 26,
   "id": "070fa3ff",
   "metadata": {},
   "outputs": [],
   "source": [
    "# ISO week number from calendar\n",
    "zero_sessions[\"week_number\"] = zero_sessions[\"created_time\"].dt.isocalendar().week\n",
    "zero_sessions[\"week_by_number\"] = \"w\" + zero_sessions[\"week_number\"].astype(str)"
   ]
  },
  {
   "cell_type": "code",
   "execution_count": 27,
   "id": "a982f216",
   "metadata": {},
   "outputs": [
    {
     "data": {
      "text/html": [
       "<div>\n",
       "<style scoped>\n",
       "    .dataframe tbody tr th:only-of-type {\n",
       "        vertical-align: middle;\n",
       "    }\n",
       "\n",
       "    .dataframe tbody tr th {\n",
       "        vertical-align: top;\n",
       "    }\n",
       "\n",
       "    .dataframe thead th {\n",
       "        text-align: right;\n",
       "    }\n",
       "</style>\n",
       "<table border=\"1\" class=\"dataframe\">\n",
       "  <thead>\n",
       "    <tr style=\"text-align: right;\">\n",
       "      <th></th>\n",
       "      <th>session_id</th>\n",
       "      <th>region</th>\n",
       "      <th>vehicle_type</th>\n",
       "      <th>created_time</th>\n",
       "      <th>expired_time</th>\n",
       "      <th>ride_id</th>\n",
       "      <th>matched_driver_id</th>\n",
       "      <th>driver_active</th>\n",
       "      <th>cancel_by</th>\n",
       "      <th>was_cancelled</th>\n",
       "      <th>is_valid_zero</th>\n",
       "      <th>vehicle_label</th>\n",
       "      <th>week</th>\n",
       "      <th>week_number</th>\n",
       "      <th>week_by_number</th>\n",
       "    </tr>\n",
       "  </thead>\n",
       "  <tbody>\n",
       "    <tr>\n",
       "      <th>0</th>\n",
       "      <td>S1</td>\n",
       "      <td>HN Outskirt 1</td>\n",
       "      <td>6</td>\n",
       "      <td>2024-11-01 00:47:00</td>\n",
       "      <td>2024-11-01 00:50:26</td>\n",
       "      <td>R601</td>\n",
       "      <td>D71</td>\n",
       "      <td>True</td>\n",
       "      <td>NaN</td>\n",
       "      <td>False</td>\n",
       "      <td>False</td>\n",
       "      <td>Car</td>\n",
       "      <td>2024-10-28</td>\n",
       "      <td>44</td>\n",
       "      <td>w44</td>\n",
       "    </tr>\n",
       "    <tr>\n",
       "      <th>1</th>\n",
       "      <td>S1</td>\n",
       "      <td>HN Outskirt 1</td>\n",
       "      <td>6</td>\n",
       "      <td>2024-11-01 00:47:00</td>\n",
       "      <td>2024-11-01 00:50:26</td>\n",
       "      <td>R844</td>\n",
       "      <td>D486</td>\n",
       "      <td>True</td>\n",
       "      <td>NaN</td>\n",
       "      <td>False</td>\n",
       "      <td>False</td>\n",
       "      <td>Car</td>\n",
       "      <td>2024-10-28</td>\n",
       "      <td>44</td>\n",
       "      <td>w44</td>\n",
       "    </tr>\n",
       "    <tr>\n",
       "      <th>2</th>\n",
       "      <td>S1</td>\n",
       "      <td>HN Outskirt 1</td>\n",
       "      <td>6</td>\n",
       "      <td>2024-11-01 00:47:00</td>\n",
       "      <td>2024-11-01 00:50:26</td>\n",
       "      <td>R1105</td>\n",
       "      <td>D551</td>\n",
       "      <td>True</td>\n",
       "      <td>NaN</td>\n",
       "      <td>False</td>\n",
       "      <td>False</td>\n",
       "      <td>Car</td>\n",
       "      <td>2024-10-28</td>\n",
       "      <td>44</td>\n",
       "      <td>w44</td>\n",
       "    </tr>\n",
       "    <tr>\n",
       "      <th>3</th>\n",
       "      <td>S2</td>\n",
       "      <td>HN Outskirt 2</td>\n",
       "      <td>3</td>\n",
       "      <td>2024-11-03 07:14:00</td>\n",
       "      <td>2024-11-03 07:22:47</td>\n",
       "      <td>R1451</td>\n",
       "      <td>D238</td>\n",
       "      <td>True</td>\n",
       "      <td>NaN</td>\n",
       "      <td>False</td>\n",
       "      <td>False</td>\n",
       "      <td>Bike</td>\n",
       "      <td>2024-10-28</td>\n",
       "      <td>44</td>\n",
       "      <td>w44</td>\n",
       "    </tr>\n",
       "    <tr>\n",
       "      <th>4</th>\n",
       "      <td>S3</td>\n",
       "      <td>HCM Outskirt 1</td>\n",
       "      <td>49</td>\n",
       "      <td>2024-11-02 23:06:00</td>\n",
       "      <td>2024-11-02 23:10:22</td>\n",
       "      <td>R1130</td>\n",
       "      <td>D51</td>\n",
       "      <td>True</td>\n",
       "      <td>NaN</td>\n",
       "      <td>False</td>\n",
       "      <td>False</td>\n",
       "      <td>Bike</td>\n",
       "      <td>2024-10-28</td>\n",
       "      <td>44</td>\n",
       "      <td>w44</td>\n",
       "    </tr>\n",
       "  </tbody>\n",
       "</table>\n",
       "</div>"
      ],
      "text/plain": [
       "  session_id          region  vehicle_type        created_time  \\\n",
       "0         S1   HN Outskirt 1             6 2024-11-01 00:47:00   \n",
       "1         S1   HN Outskirt 1             6 2024-11-01 00:47:00   \n",
       "2         S1   HN Outskirt 1             6 2024-11-01 00:47:00   \n",
       "3         S2   HN Outskirt 2             3 2024-11-03 07:14:00   \n",
       "4         S3  HCM Outskirt 1            49 2024-11-02 23:06:00   \n",
       "\n",
       "          expired_time ride_id matched_driver_id  driver_active cancel_by  \\\n",
       "0  2024-11-01 00:50:26    R601               D71           True       NaN   \n",
       "1  2024-11-01 00:50:26    R844              D486           True       NaN   \n",
       "2  2024-11-01 00:50:26   R1105              D551           True       NaN   \n",
       "3  2024-11-03 07:22:47   R1451              D238           True       NaN   \n",
       "4  2024-11-02 23:10:22   R1130               D51           True       NaN   \n",
       "\n",
       "   was_cancelled  is_valid_zero vehicle_label       week  week_number  \\\n",
       "0          False          False           Car 2024-10-28           44   \n",
       "1          False          False           Car 2024-10-28           44   \n",
       "2          False          False           Car 2024-10-28           44   \n",
       "3          False          False          Bike 2024-10-28           44   \n",
       "4          False          False          Bike 2024-10-28           44   \n",
       "\n",
       "  week_by_number  \n",
       "0            w44  \n",
       "1            w44  \n",
       "2            w44  \n",
       "3            w44  \n",
       "4            w44  "
      ]
     },
     "execution_count": 27,
     "metadata": {},
     "output_type": "execute_result"
    }
   ],
   "source": [
    "zero_sessions.head()"
   ]
  },
  {
   "cell_type": "code",
   "execution_count": 28,
   "id": "7ae02e5c",
   "metadata": {},
   "outputs": [],
   "source": [
    "weekly_trends = (\n",
    "    zero_sessions.groupby([\"week_by_number\", \"region\", \"vehicle_label\"])\n",
    "    .agg(\n",
    "        total_zero=(\"session_id\", \"count\"),\n",
    "        valid_zero=(\"is_valid_zero\", \"sum\")\n",
    "    )\n",
    "    .reset_index()\n",
    ")\n",
    "\n",
    "weekly_trends[\"zero_valid_rate\"] = weekly_trends[\"valid_zero\"] / weekly_trends[\"total_zero\"]\n"
   ]
  },
  {
   "cell_type": "code",
   "execution_count": 29,
   "id": "97053581",
   "metadata": {},
   "outputs": [
    {
     "data": {
      "text/html": [
       "<div>\n",
       "<style scoped>\n",
       "    .dataframe tbody tr th:only-of-type {\n",
       "        vertical-align: middle;\n",
       "    }\n",
       "\n",
       "    .dataframe tbody tr th {\n",
       "        vertical-align: top;\n",
       "    }\n",
       "\n",
       "    .dataframe thead th {\n",
       "        text-align: right;\n",
       "    }\n",
       "</style>\n",
       "<table border=\"1\" class=\"dataframe\">\n",
       "  <thead>\n",
       "    <tr style=\"text-align: right;\">\n",
       "      <th></th>\n",
       "      <th>week_by_number</th>\n",
       "      <th>region</th>\n",
       "      <th>vehicle_label</th>\n",
       "      <th>total_zero</th>\n",
       "      <th>valid_zero</th>\n",
       "      <th>zero_valid_rate</th>\n",
       "    </tr>\n",
       "  </thead>\n",
       "  <tbody>\n",
       "    <tr>\n",
       "      <th>0</th>\n",
       "      <td>w44</td>\n",
       "      <td>HCM Outskirt 1</td>\n",
       "      <td>Bike</td>\n",
       "      <td>281</td>\n",
       "      <td>108</td>\n",
       "      <td>0.384342</td>\n",
       "    </tr>\n",
       "    <tr>\n",
       "      <th>1</th>\n",
       "      <td>w44</td>\n",
       "      <td>HCM Outskirt 1</td>\n",
       "      <td>Car</td>\n",
       "      <td>200</td>\n",
       "      <td>59</td>\n",
       "      <td>0.295000</td>\n",
       "    </tr>\n",
       "    <tr>\n",
       "      <th>2</th>\n",
       "      <td>w44</td>\n",
       "      <td>HCM Outskskirt 2</td>\n",
       "      <td>Bike</td>\n",
       "      <td>251</td>\n",
       "      <td>88</td>\n",
       "      <td>0.350598</td>\n",
       "    </tr>\n",
       "    <tr>\n",
       "      <th>3</th>\n",
       "      <td>w44</td>\n",
       "      <td>HCM Outskskirt 2</td>\n",
       "      <td>Car</td>\n",
       "      <td>226</td>\n",
       "      <td>62</td>\n",
       "      <td>0.274336</td>\n",
       "    </tr>\n",
       "    <tr>\n",
       "      <th>4</th>\n",
       "      <td>w44</td>\n",
       "      <td>HN Outskirt 1</td>\n",
       "      <td>Bike</td>\n",
       "      <td>312</td>\n",
       "      <td>91</td>\n",
       "      <td>0.291667</td>\n",
       "    </tr>\n",
       "    <tr>\n",
       "      <th>5</th>\n",
       "      <td>w44</td>\n",
       "      <td>HN Outskirt 1</td>\n",
       "      <td>Car</td>\n",
       "      <td>204</td>\n",
       "      <td>67</td>\n",
       "      <td>0.328431</td>\n",
       "    </tr>\n",
       "    <tr>\n",
       "      <th>6</th>\n",
       "      <td>w44</td>\n",
       "      <td>HN Outskirt 2</td>\n",
       "      <td>Bike</td>\n",
       "      <td>286</td>\n",
       "      <td>71</td>\n",
       "      <td>0.248252</td>\n",
       "    </tr>\n",
       "    <tr>\n",
       "      <th>7</th>\n",
       "      <td>w44</td>\n",
       "      <td>HN Outskirt 2</td>\n",
       "      <td>Car</td>\n",
       "      <td>186</td>\n",
       "      <td>67</td>\n",
       "      <td>0.360215</td>\n",
       "    </tr>\n",
       "    <tr>\n",
       "      <th>8</th>\n",
       "      <td>w45</td>\n",
       "      <td>HCM Outskirt 1</td>\n",
       "      <td>Bike</td>\n",
       "      <td>123</td>\n",
       "      <td>33</td>\n",
       "      <td>0.268293</td>\n",
       "    </tr>\n",
       "    <tr>\n",
       "      <th>9</th>\n",
       "      <td>w45</td>\n",
       "      <td>HCM Outskirt 1</td>\n",
       "      <td>Car</td>\n",
       "      <td>78</td>\n",
       "      <td>21</td>\n",
       "      <td>0.269231</td>\n",
       "    </tr>\n",
       "    <tr>\n",
       "      <th>10</th>\n",
       "      <td>w45</td>\n",
       "      <td>HCM Outskskirt 2</td>\n",
       "      <td>Bike</td>\n",
       "      <td>92</td>\n",
       "      <td>32</td>\n",
       "      <td>0.347826</td>\n",
       "    </tr>\n",
       "    <tr>\n",
       "      <th>11</th>\n",
       "      <td>w45</td>\n",
       "      <td>HCM Outskskirt 2</td>\n",
       "      <td>Car</td>\n",
       "      <td>63</td>\n",
       "      <td>26</td>\n",
       "      <td>0.412698</td>\n",
       "    </tr>\n",
       "    <tr>\n",
       "      <th>12</th>\n",
       "      <td>w45</td>\n",
       "      <td>HN Outskirt 1</td>\n",
       "      <td>Bike</td>\n",
       "      <td>96</td>\n",
       "      <td>25</td>\n",
       "      <td>0.260417</td>\n",
       "    </tr>\n",
       "    <tr>\n",
       "      <th>13</th>\n",
       "      <td>w45</td>\n",
       "      <td>HN Outskirt 1</td>\n",
       "      <td>Car</td>\n",
       "      <td>45</td>\n",
       "      <td>20</td>\n",
       "      <td>0.444444</td>\n",
       "    </tr>\n",
       "    <tr>\n",
       "      <th>14</th>\n",
       "      <td>w45</td>\n",
       "      <td>HN Outskirt 2</td>\n",
       "      <td>Bike</td>\n",
       "      <td>126</td>\n",
       "      <td>43</td>\n",
       "      <td>0.341270</td>\n",
       "    </tr>\n",
       "    <tr>\n",
       "      <th>15</th>\n",
       "      <td>w45</td>\n",
       "      <td>HN Outskirt 2</td>\n",
       "      <td>Car</td>\n",
       "      <td>58</td>\n",
       "      <td>14</td>\n",
       "      <td>0.241379</td>\n",
       "    </tr>\n",
       "  </tbody>\n",
       "</table>\n",
       "</div>"
      ],
      "text/plain": [
       "   week_by_number            region vehicle_label  total_zero  valid_zero  \\\n",
       "0             w44    HCM Outskirt 1          Bike         281         108   \n",
       "1             w44    HCM Outskirt 1           Car         200          59   \n",
       "2             w44  HCM Outskskirt 2          Bike         251          88   \n",
       "3             w44  HCM Outskskirt 2           Car         226          62   \n",
       "4             w44     HN Outskirt 1          Bike         312          91   \n",
       "5             w44     HN Outskirt 1           Car         204          67   \n",
       "6             w44     HN Outskirt 2          Bike         286          71   \n",
       "7             w44     HN Outskirt 2           Car         186          67   \n",
       "8             w45    HCM Outskirt 1          Bike         123          33   \n",
       "9             w45    HCM Outskirt 1           Car          78          21   \n",
       "10            w45  HCM Outskskirt 2          Bike          92          32   \n",
       "11            w45  HCM Outskskirt 2           Car          63          26   \n",
       "12            w45     HN Outskirt 1          Bike          96          25   \n",
       "13            w45     HN Outskirt 1           Car          45          20   \n",
       "14            w45     HN Outskirt 2          Bike         126          43   \n",
       "15            w45     HN Outskirt 2           Car          58          14   \n",
       "\n",
       "    zero_valid_rate  \n",
       "0          0.384342  \n",
       "1          0.295000  \n",
       "2          0.350598  \n",
       "3          0.274336  \n",
       "4          0.291667  \n",
       "5          0.328431  \n",
       "6          0.248252  \n",
       "7          0.360215  \n",
       "8          0.268293  \n",
       "9          0.269231  \n",
       "10         0.347826  \n",
       "11         0.412698  \n",
       "12         0.260417  \n",
       "13         0.444444  \n",
       "14         0.341270  \n",
       "15         0.241379  "
      ]
     },
     "execution_count": 29,
     "metadata": {},
     "output_type": "execute_result"
    }
   ],
   "source": [
    "weekly_trends"
   ]
  },
  {
   "cell_type": "code",
   "execution_count": 90,
   "id": "733169e9",
   "metadata": {},
   "outputs": [
    {
     "data": {
      "text/html": [
       "<div>\n",
       "<style scoped>\n",
       "    .dataframe tbody tr th:only-of-type {\n",
       "        vertical-align: middle;\n",
       "    }\n",
       "\n",
       "    .dataframe tbody tr th {\n",
       "        vertical-align: top;\n",
       "    }\n",
       "\n",
       "    .dataframe thead th {\n",
       "        text-align: right;\n",
       "    }\n",
       "</style>\n",
       "<table border=\"1\" class=\"dataframe\">\n",
       "  <thead>\n",
       "    <tr style=\"text-align: right;\">\n",
       "      <th></th>\n",
       "      <th>week_by_number</th>\n",
       "      <th>region</th>\n",
       "      <th>vehicle_label</th>\n",
       "      <th>total_zero</th>\n",
       "      <th>valid_zero</th>\n",
       "      <th>zero_valid_rate</th>\n",
       "    </tr>\n",
       "  </thead>\n",
       "  <tbody>\n",
       "    <tr>\n",
       "      <th>0</th>\n",
       "      <td>w44</td>\n",
       "      <td>HCM Outskirt 1</td>\n",
       "      <td>Bike</td>\n",
       "      <td>281</td>\n",
       "      <td>108</td>\n",
       "      <td>0.384342</td>\n",
       "    </tr>\n",
       "    <tr>\n",
       "      <th>1</th>\n",
       "      <td>w44</td>\n",
       "      <td>HCM Outskirt 1</td>\n",
       "      <td>Car</td>\n",
       "      <td>200</td>\n",
       "      <td>59</td>\n",
       "      <td>0.295000</td>\n",
       "    </tr>\n",
       "    <tr>\n",
       "      <th>2</th>\n",
       "      <td>w44</td>\n",
       "      <td>HCM Outskskirt 2</td>\n",
       "      <td>Bike</td>\n",
       "      <td>251</td>\n",
       "      <td>88</td>\n",
       "      <td>0.350598</td>\n",
       "    </tr>\n",
       "    <tr>\n",
       "      <th>3</th>\n",
       "      <td>w44</td>\n",
       "      <td>HCM Outskskirt 2</td>\n",
       "      <td>Car</td>\n",
       "      <td>226</td>\n",
       "      <td>62</td>\n",
       "      <td>0.274336</td>\n",
       "    </tr>\n",
       "    <tr>\n",
       "      <th>8</th>\n",
       "      <td>w45</td>\n",
       "      <td>HCM Outskirt 1</td>\n",
       "      <td>Bike</td>\n",
       "      <td>123</td>\n",
       "      <td>33</td>\n",
       "      <td>0.268293</td>\n",
       "    </tr>\n",
       "    <tr>\n",
       "      <th>9</th>\n",
       "      <td>w45</td>\n",
       "      <td>HCM Outskirt 1</td>\n",
       "      <td>Car</td>\n",
       "      <td>78</td>\n",
       "      <td>21</td>\n",
       "      <td>0.269231</td>\n",
       "    </tr>\n",
       "    <tr>\n",
       "      <th>10</th>\n",
       "      <td>w45</td>\n",
       "      <td>HCM Outskskirt 2</td>\n",
       "      <td>Bike</td>\n",
       "      <td>92</td>\n",
       "      <td>32</td>\n",
       "      <td>0.347826</td>\n",
       "    </tr>\n",
       "    <tr>\n",
       "      <th>11</th>\n",
       "      <td>w45</td>\n",
       "      <td>HCM Outskskirt 2</td>\n",
       "      <td>Car</td>\n",
       "      <td>63</td>\n",
       "      <td>26</td>\n",
       "      <td>0.412698</td>\n",
       "    </tr>\n",
       "  </tbody>\n",
       "</table>\n",
       "</div>"
      ],
      "text/plain": [
       "   week_by_number            region vehicle_label  total_zero  valid_zero  \\\n",
       "0             w44    HCM Outskirt 1          Bike         281         108   \n",
       "1             w44    HCM Outskirt 1           Car         200          59   \n",
       "2             w44  HCM Outskskirt 2          Bike         251          88   \n",
       "3             w44  HCM Outskskirt 2           Car         226          62   \n",
       "8             w45    HCM Outskirt 1          Bike         123          33   \n",
       "9             w45    HCM Outskirt 1           Car          78          21   \n",
       "10            w45  HCM Outskskirt 2          Bike          92          32   \n",
       "11            w45  HCM Outskskirt 2           Car          63          26   \n",
       "\n",
       "    zero_valid_rate  \n",
       "0          0.384342  \n",
       "1          0.295000  \n",
       "2          0.350598  \n",
       "3          0.274336  \n",
       "8          0.268293  \n",
       "9          0.269231  \n",
       "10         0.347826  \n",
       "11         0.412698  "
      ]
     },
     "execution_count": 90,
     "metadata": {},
     "output_type": "execute_result"
    }
   ],
   "source": [
    "hcm_weekly_trend = weekly_trends[weekly_trends['region'].str.contains(\"HCM\", case=False, na=False)]\n",
    "hcm_weekly_trend"
   ]
  },
  {
   "cell_type": "code",
   "execution_count": 92,
   "id": "c2817ed3",
   "metadata": {},
   "outputs": [
    {
     "name": "stderr",
     "output_type": "stream",
     "text": [
      "C:\\Users\\USER\\AppData\\Local\\Temp\\ipykernel_4608\\2488211484.py:2: SettingWithCopyWarning: \n",
      "A value is trying to be set on a copy of a slice from a DataFrame.\n",
      "Try using .loc[row_indexer,col_indexer] = value instead\n",
      "\n",
      "See the caveats in the documentation: https://pandas.pydata.org/pandas-docs/stable/user_guide/indexing.html#returning-a-view-versus-a-copy\n",
      "  hcm_weekly_trend[\"region_vehicle\"] = hcm_weekly_trend[\"region\"] + \" - \" + hcm_weekly_trend[\"vehicle_label\"]\n"
     ]
    },
    {
     "data": {
      "image/png": "[encoded data removed]",
      "text/plain": [
       "<Figure size 1200x600 with 1 Axes>"
      ]
     },
     "metadata": {},
     "output_type": "display_data"
    }
   ],
   "source": [
    "# Combine region + vehicle_label for color/hue\n",
    "hcm_weekly_trend[\"region_vehicle\"] = hcm_weekly_trend[\"region\"] + \" - \" + hcm_weekly_trend[\"vehicle_label\"]\n",
    "\n",
    "plt.figure(figsize=(12, 6))\n",
    "sns.lineplot(\n",
    "    data=hcm_weekly_trend,\n",
    "    x=\"week_by_number\",\n",
    "    y=\"zero_valid_rate\",\n",
    "    hue=\"region_vehicle\",\n",
    "    marker=\"o\"\n",
    ")\n",
    "plt.title(\"Zero Valid Rate Trend by Region and Vehicle\")\n",
    "plt.xlabel(\"Week Number\")\n",
    "plt.ylabel(\"Zero Valid Rate\")\n",
    "plt.legend(title=\"Region - Vehicle\", bbox_to_anchor=(1.05, 1), loc=\"upper left\")\n",
    "plt.tight_layout()\n",
    "plt.show()"
   ]
  },
  {
   "cell_type": "code",
   "execution_count": 91,
   "id": "a6fc912f",
   "metadata": {},
   "outputs": [
    {
     "data": {
      "text/html": [
       "<div>\n",
       "<style scoped>\n",
       "    .dataframe tbody tr th:only-of-type {\n",
       "        vertical-align: middle;\n",
       "    }\n",
       "\n",
       "    .dataframe tbody tr th {\n",
       "        vertical-align: top;\n",
       "    }\n",
       "\n",
       "    .dataframe thead th {\n",
       "        text-align: right;\n",
       "    }\n",
       "</style>\n",
       "<table border=\"1\" class=\"dataframe\">\n",
       "  <thead>\n",
       "    <tr style=\"text-align: right;\">\n",
       "      <th></th>\n",
       "      <th>week_by_number</th>\n",
       "      <th>region</th>\n",
       "      <th>vehicle_label</th>\n",
       "      <th>total_zero</th>\n",
       "      <th>valid_zero</th>\n",
       "      <th>zero_valid_rate</th>\n",
       "    </tr>\n",
       "  </thead>\n",
       "  <tbody>\n",
       "    <tr>\n",
       "      <th>4</th>\n",
       "      <td>w44</td>\n",
       "      <td>HN Outskirt 1</td>\n",
       "      <td>Bike</td>\n",
       "      <td>312</td>\n",
       "      <td>91</td>\n",
       "      <td>0.291667</td>\n",
       "    </tr>\n",
       "    <tr>\n",
       "      <th>5</th>\n",
       "      <td>w44</td>\n",
       "      <td>HN Outskirt 1</td>\n",
       "      <td>Car</td>\n",
       "      <td>204</td>\n",
       "      <td>67</td>\n",
       "      <td>0.328431</td>\n",
       "    </tr>\n",
       "    <tr>\n",
       "      <th>6</th>\n",
       "      <td>w44</td>\n",
       "      <td>HN Outskirt 2</td>\n",
       "      <td>Bike</td>\n",
       "      <td>286</td>\n",
       "      <td>71</td>\n",
       "      <td>0.248252</td>\n",
       "    </tr>\n",
       "    <tr>\n",
       "      <th>7</th>\n",
       "      <td>w44</td>\n",
       "      <td>HN Outskirt 2</td>\n",
       "      <td>Car</td>\n",
       "      <td>186</td>\n",
       "      <td>67</td>\n",
       "      <td>0.360215</td>\n",
       "    </tr>\n",
       "    <tr>\n",
       "      <th>12</th>\n",
       "      <td>w45</td>\n",
       "      <td>HN Outskirt 1</td>\n",
       "      <td>Bike</td>\n",
       "      <td>96</td>\n",
       "      <td>25</td>\n",
       "      <td>0.260417</td>\n",
       "    </tr>\n",
       "    <tr>\n",
       "      <th>13</th>\n",
       "      <td>w45</td>\n",
       "      <td>HN Outskirt 1</td>\n",
       "      <td>Car</td>\n",
       "      <td>45</td>\n",
       "      <td>20</td>\n",
       "      <td>0.444444</td>\n",
       "    </tr>\n",
       "    <tr>\n",
       "      <th>14</th>\n",
       "      <td>w45</td>\n",
       "      <td>HN Outskirt 2</td>\n",
       "      <td>Bike</td>\n",
       "      <td>126</td>\n",
       "      <td>43</td>\n",
       "      <td>0.341270</td>\n",
       "    </tr>\n",
       "    <tr>\n",
       "      <th>15</th>\n",
       "      <td>w45</td>\n",
       "      <td>HN Outskirt 2</td>\n",
       "      <td>Car</td>\n",
       "      <td>58</td>\n",
       "      <td>14</td>\n",
       "      <td>0.241379</td>\n",
       "    </tr>\n",
       "  </tbody>\n",
       "</table>\n",
       "</div>"
      ],
      "text/plain": [
       "   week_by_number         region vehicle_label  total_zero  valid_zero  \\\n",
       "4             w44  HN Outskirt 1          Bike         312          91   \n",
       "5             w44  HN Outskirt 1           Car         204          67   \n",
       "6             w44  HN Outskirt 2          Bike         286          71   \n",
       "7             w44  HN Outskirt 2           Car         186          67   \n",
       "12            w45  HN Outskirt 1          Bike          96          25   \n",
       "13            w45  HN Outskirt 1           Car          45          20   \n",
       "14            w45  HN Outskirt 2          Bike         126          43   \n",
       "15            w45  HN Outskirt 2           Car          58          14   \n",
       "\n",
       "    zero_valid_rate  \n",
       "4          0.291667  \n",
       "5          0.328431  \n",
       "6          0.248252  \n",
       "7          0.360215  \n",
       "12         0.260417  \n",
       "13         0.444444  \n",
       "14         0.341270  \n",
       "15         0.241379  "
      ]
     },
     "execution_count": 91,
     "metadata": {},
     "output_type": "execute_result"
    }
   ],
   "source": [
    "hanoi_weekly_trend = weekly_trends[weekly_trends['region'].str.contains(\"HN\", case=False, na=False)]\n",
    "hanoi_weekly_trend"
   ]
  },
  {
   "cell_type": "code",
   "execution_count": 94,
   "id": "adf8ffe8",
   "metadata": {},
   "outputs": [
    {
     "name": "stderr",
     "output_type": "stream",
     "text": [
      "C:\\Users\\USER\\AppData\\Local\\Temp\\ipykernel_4608\\1301170605.py:2: SettingWithCopyWarning: \n",
      "A value is trying to be set on a copy of a slice from a DataFrame.\n",
      "Try using .loc[row_indexer,col_indexer] = value instead\n",
      "\n",
      "See the caveats in the documentation: https://pandas.pydata.org/pandas-docs/stable/user_guide/indexing.html#returning-a-view-versus-a-copy\n",
      "  hanoi_weekly_trend[\"region_vehicle\"] = hanoi_weekly_trend[\"region\"] + \" - \" + hanoi_weekly_trend[\"vehicle_label\"]\n"
     ]
    },
    {
     "data": {
      "image/png": "[encoded data removed]",
      "text/plain": [
       "<Figure size 1200x600 with 1 Axes>"
      ]
     },
     "metadata": {},
     "output_type": "display_data"
    }
   ],
   "source": [
    "# Combine region + vehicle_label for color/hue\n",
    "hanoi_weekly_trend[\"region_vehicle\"] = hanoi_weekly_trend[\"region\"] + \" - \" + hanoi_weekly_trend[\"vehicle_label\"]\n",
    "\n",
    "plt.figure(figsize=(12, 6))\n",
    "sns.lineplot(\n",
    "    data=hanoi_weekly_trend,\n",
    "    x=\"week_by_number\",\n",
    "    y=\"zero_valid_rate\",\n",
    "    hue=\"region_vehicle\",\n",
    "    marker=\"o\"\n",
    ")\n",
    "plt.title(\"Zero Valid Rate Trend by Region and Vehicle\")\n",
    "plt.xlabel(\"Week Number\")\n",
    "plt.ylabel(\"Zero Valid Rate\")\n",
    "plt.legend(title=\"Region - Vehicle\", bbox_to_anchor=(1.05, 1), loc=\"upper left\")\n",
    "plt.tight_layout()\n",
    "plt.show()"
   ]
  },
  {
   "cell_type": "code",
   "execution_count": 87,
   "id": "0094fcf4",
   "metadata": {},
   "outputs": [
    {
     "data": {
      "image/png": "[encoded data removed]",
      "text/plain": [
       "<Figure size 1000x500 with 1 Axes>"
      ]
     },
     "metadata": {},
     "output_type": "display_data"
    }
   ],
   "source": [
    "import matplotlib.pyplot as plt\n",
    "import seaborn as sns\n",
    "\n",
    "# Set style\n",
    "sns.set(style=\"whitegrid\")\n",
    "\n",
    "# --- 1. Line Chart: Zero Valid Rate over Weeks ---\n",
    "plt.figure(figsize=(10, 5))\n",
    "sns.lineplot(data=weekly_trends, x=\"week_by_number\", y=\"zero_valid_rate\", hue=\"vehicle_label\", marker=\"o\")\n",
    "plt.title(\"Zero Valid Rate Trend by Vehicle\")\n",
    "plt.xlabel(\"Week Number\")\n",
    "plt.ylabel(\"Zero Valid Rate\")\n",
    "plt.legend(title=\"Vehicle\")\n",
    "plt.tight_layout()\n",
    "plt.show()\n",
    "\n"
   ]
  },
  {
   "cell_type": "code",
   "execution_count": 88,
   "id": "5ed04fcf",
   "metadata": {},
   "outputs": [
    {
     "data": {
      "image/png": "[encoded data removed]",
      "text/plain": [
       "<Figure size 1000x600 with 1 Axes>"
      ]
     },
     "metadata": {},
     "output_type": "display_data"
    }
   ],
   "source": [
    "# --- 2. Grouped Bar Chart: Regions ---\n",
    "plt.figure(figsize=(10, 6))\n",
    "sns.barplot(data=weekly_trends, x=\"region\", y=\"zero_valid_rate\", hue=\"vehicle_label\")\n",
    "plt.title(\"Zero Valid Rate by Region and Vehicle Type\")\n",
    "plt.xlabel(\"Region\")\n",
    "plt.ylabel(\"Zero Valid Rate\")\n",
    "plt.legend(title=\"Vehicle\")\n",
    "plt.tight_layout()\n",
    "plt.show()"
   ]
  },
  {
   "cell_type": "code",
   "execution_count": 89,
   "id": "82fc7250",
   "metadata": {},
   "outputs": [
    {
     "data": {
      "image/png": "[encoded data removed]",
      "text/plain": [
       "<Figure size 800x600 with 1 Axes>"
      ]
     },
     "metadata": {},
     "output_type": "display_data"
    }
   ],
   "source": [
    "# --- 3. Scatter Plot: Rate vs Volume ---\n",
    "plt.figure(figsize=(8, 6))\n",
    "sns.scatterplot(\n",
    "    data=weekly_trends, \n",
    "    x=\"total_zero\", \n",
    "    y=\"zero_valid_rate\", \n",
    "    hue=\"vehicle_label\", \n",
    "    size=\"valid_zero\", \n",
    "    sizes=(20, 200), \n",
    "    alpha=0.7\n",
    ")\n",
    "plt.title(\"Zero Valid Rate vs Total Zero\")\n",
    "plt.xlabel(\"Total Zero\")\n",
    "plt.ylabel(\"Zero Valid Rate\")\n",
    "plt.legend(title=\"Vehicle\")\n",
    "plt.tight_layout()\n",
    "plt.show()"
   ]
  },
  {
   "cell_type": "code",
   "execution_count": 30,
   "id": "c378fe33",
   "metadata": {},
   "outputs": [
    {
     "name": "stdout",
     "output_type": "stream",
     "text": [
      "  vehicle_label  total_sessions  rebooks_within_10min  rebook_rate_pct\n",
      "0          Bike            1199                     0              0.0\n",
      "1           Car             801                     0              0.0\n"
     ]
    }
   ],
   "source": [
    "# Step 1: Select needed columns and ensure datetime\n",
    "sessions = zero_session_df[['session_id', 'vehicle_type', 'created_time']].copy()\n",
    "sessions['created_time'] = pd.to_datetime(sessions['created_time'])\n",
    "\n",
    "# Step 2: Sort by session_id and created_time\n",
    "sessions.sort_values(['session_id', 'created_time'], inplace=True)\n",
    "\n",
    "# Step 3: Compute next session time within each session_id\n",
    "sessions['next_created_time'] = sessions.groupby('session_id')['created_time'].shift(-1)\n",
    "sessions['time_to_next'] = (sessions['next_created_time'] - sessions['created_time']).dt.total_seconds()\n",
    "\n",
    "# Step 4: Flag rebook within 10 mins\n",
    "sessions['rebook_within_10min'] = sessions['time_to_next'].le(600)\n",
    "\n",
    "# Step 5: Map Vehicle Type\n",
    "# Map vehicle_type into Bike / Car\n",
    "vehicle_map = {3: \"Bike\", 6: \"Car\", 9: \"Car\", 37: \"Bike\", 49: \"Bike\"}\n",
    "sessions[\"vehicle_label\"] = zero_sessions[\"vehicle_type\"].map(vehicle_map)\n",
    "\n",
    "# Step 6: Calculate rebook rate per vehicle_type\n",
    "summary = sessions.groupby('vehicle_label').agg(\n",
    "    total_sessions=('session_id', 'count'),\n",
    "    rebooks_within_10min=('rebook_within_10min', 'sum')\n",
    ").reset_index()\n",
    "\n",
    "summary['rebook_rate_pct'] = (summary['rebooks_within_10min'] / summary['total_sessions'] * 100).round(2)\n",
    "\n",
    "print(summary)"
   ]
  },
  {
   "cell_type": "code",
   "execution_count": 31,
   "id": "ad0d469f",
   "metadata": {},
   "outputs": [],
   "source": [
    "# Q3: Highlight the difference in rebook-within-10-mins rate between vehicle types"
   ]
  },
  {
   "cell_type": "code",
   "execution_count": 32,
   "id": "fb65b850",
   "metadata": {},
   "outputs": [],
   "source": [
    "# 1. Create ride_id\n",
    "# -------------------------\n",
    "ride_requests = ride_requests_df.copy()\n",
    "ride_requests[\"ride_id\"] = [\"R\" + str(i+1) for i in range(len(ride_requests))]"
   ]
  },
  {
   "cell_type": "code",
   "execution_count": 33,
   "id": "0e9b7b4b",
   "metadata": {},
   "outputs": [],
   "source": [
    "# 2.Merge zero_session with ride_request on session_id\n",
    "merged = zero_session_df.merge(ride_requests, on=\"session_id\", how=\"left\")"
   ]
  },
  {
   "cell_type": "code",
   "execution_count": 34,
   "id": "529f75ac",
   "metadata": {},
   "outputs": [],
   "source": [
    "\n",
    "# Ensure datetime\n",
    "merged[\"created_time\"] = pd.to_datetime(merged[\"created_time\"])"
   ]
  },
  {
   "cell_type": "code",
   "execution_count": 35,
   "id": "5fc8e095",
   "metadata": {},
   "outputs": [],
   "source": [
    "# Sort\n",
    "merged = merged.sort_values([\"ride_id\", \"created_time\"])"
   ]
  },
  {
   "cell_type": "code",
   "execution_count": 36,
   "id": "ca1ea641",
   "metadata": {},
   "outputs": [],
   "source": [
    "# Group by ride_id only\n",
    "merged[\"next_created_time\"] = merged.groupby(\"ride_id\")[\"created_time\"].shift(-1)\n",
    "merged[\"time_to_next\"] = (merged[\"next_created_time\"] - merged[\"created_time\"]).dt.total_seconds()"
   ]
  },
  {
   "cell_type": "code",
   "execution_count": 37,
   "id": "303121f5",
   "metadata": {},
   "outputs": [],
   "source": [
    "# Map vehicle_type into Bike / Car\n",
    "vehicle_map = {3: \"Bike\", 6: \"Car\", 9: \"Car\", 37: \"Bike\", 49: \"Bike\"}\n",
    "merged[\"vehicle_label\"] = merged[\"vehicle_type\"].map(vehicle_map)\n"
   ]
  },
  {
   "cell_type": "code",
   "execution_count": 38,
   "id": "3ace572d",
   "metadata": {},
   "outputs": [],
   "source": [
    "# Flag rebook within 10 mins (600 seconds)\n",
    "merged['rebook_within_10min'] = merged['time_to_next'].le(600)  # True if ≤ 600s"
   ]
  },
  {
   "cell_type": "code",
   "execution_count": 39,
   "id": "7de089a1",
   "metadata": {},
   "outputs": [
    {
     "name": "stdout",
     "output_type": "stream",
     "text": [
      "   vehicle_type  total_sessions  rebooks_within_10min  rebook_rate_pct\n",
      "0             3             371                     0              0.0\n",
      "1             6             360                     0              0.0\n",
      "2             9             364                     0              0.0\n",
      "3            37             329                     0              0.0\n",
      "4            49             376                     0              0.0\n"
     ]
    }
   ],
   "source": [
    "# Calculate rebook rate per vehicle_type\n",
    "summary = merged.groupby('vehicle_type').agg(\n",
    "    total_sessions=('ride_id', 'count'),\n",
    "    rebooks_within_10min=('rebook_within_10min', 'sum')\n",
    ").reset_index()\n",
    "\n",
    "summary['rebook_rate_pct'] = (summary['rebooks_within_10min'] / summary['total_sessions'] * 100).round(2)\n",
    "\n",
    "print(summary)"
   ]
  },
  {
   "cell_type": "markdown",
   "id": "202c0e11",
   "metadata": {},
   "source": [
    "### Coverage Opportunity Estimation"
   ]
  },
  {
   "cell_type": "code",
   "execution_count": 40,
   "metadata": {},
   "outputs": [],
   "source": [
    "# Q4: Using Range 1 (2km, 3 mins) and Range 2 (3km, 5 mins), simulate the percentage of valid sessions and potential sessions for Bike and Car."
   ]
  },
  {
   "cell_type": "markdown",
   "id": "cf63a7a9",
   "metadata": {},
   "source": [
    "* Valid Session = session where a rider actually got matched (ride_requests exists for that session). If the matched driver’s dropoff was within Range 1 or Range 2 → count under that range.\n",
    "\n",
    "* Potential Session = session with no actual match (no ride request or no matched_driver_id), but there exists a driver whose dropoff_time and dropoff_location satisfy the range constraint."
   ]
  },
  {
   "cell_type": "code",
   "execution_count": 41,
   "id": "f4137a3c",
   "metadata": {},
   "outputs": [],
   "source": [
    "drivers = drivers_on_trip_df.copy()"
   ]
  },
  {
   "cell_type": "code",
   "execution_count": 42,
   "id": "9c9d34dd",
   "metadata": {},
   "outputs": [],
   "source": [
    "zero_sessions = zero_session_df.copy()"
   ]
  },
  {
   "cell_type": "code",
   "execution_count": 43,
   "id": "839331a2",
   "metadata": {},
   "outputs": [],
   "source": [
    "# ---- Step 1: Simulate driver dropoff distances (random 0–5 km) ----\n",
    "np.random.seed(42)\n",
    "drivers[\"dropoff_distance_km\"] = np.random.uniform(0, 5, size=len(drivers))"
   ]
  },
  {
   "cell_type": "code",
   "execution_count": 44,
   "id": "75ddaffd",
   "metadata": {},
   "outputs": [],
   "source": [
    "\n",
    "# ---- Step 2: Merge sessions with ride requests to see matched vs unmatched ----\n",
    "sessions = zero_sessions.merge(ride_requests_df[[\"session_id\", \"matched_driver_id\"]], on=\"session_id\", how=\"left\")"
   ]
  },
  {
   "cell_type": "code",
   "execution_count": 45,
   "id": "3f2f89ad",
   "metadata": {},
   "outputs": [],
   "source": [
    "# Map vehicle_type into Bike / Car\n",
    "vehicle_map = {3: \"Bike\", 6: \"Car\", 9: \"Car\", 37: \"Bike\", 49: \"Bike\"}\n",
    "sessions[\"vehicle_label\"] = sessions[\"vehicle_type\"].map(vehicle_map)"
   ]
  },
  {
   "cell_type": "code",
   "execution_count": 46,
   "id": "464bdeb2",
   "metadata": {},
   "outputs": [],
   "source": [
    "# ---- Step 3: Define helper to check valid match ----\n",
    "def classify_session(row, drivers, range_km, range_min):\n",
    "    # Filter drivers dropping off after session created_time but before expired_time\n",
    "    nearby = drivers[\n",
    "        (drivers[\"dropoff_time\"] >= row[\"created_time\"]) &\n",
    "        (drivers[\"dropoff_time\"] <= row[\"expired_time\"]) &\n",
    "        (drivers[\"dropoff_distance_km\"] <= range_km)\n",
    "    ]\n",
    "    \n",
    "    if nearby.empty:\n",
    "        return \"No driver nearby\"\n",
    "    \n",
    "    # If already matched and conditions satisfied → Valid\n",
    "    if pd.notnull(row[\"matched_driver_id\"]):\n",
    "        return \"Valid\"\n",
    "    else:\n",
    "        return \"Potential\"\n"
   ]
  },
  {
   "cell_type": "code",
   "execution_count": 47,
   "id": "fdd30348",
   "metadata": {},
   "outputs": [],
   "source": [
    "# ---- Step 4: Apply for Range 1 (2 km, 3 mins) and Range 2 (3 km, 5 mins) ----\n",
    "sessions[\"range1_status\"] = sessions.apply(\n",
    "    classify_session, axis=1, drivers=drivers, range_km=2, range_min=3\n",
    ")\n",
    "\n",
    "sessions[\"range2_status\"] = sessions.apply(\n",
    "    classify_session, axis=1, drivers=drivers, range_km=3, range_min=5\n",
    ")"
   ]
  },
  {
   "cell_type": "code",
   "execution_count": 48,
   "id": "8bf7bff0",
   "metadata": {},
   "outputs": [
    {
     "name": "stdout",
     "output_type": "stream",
     "text": [
      "Range 1 (2km, 3 mins): {'Bike': {'Valid %': np.float64(23.867262284620296), 'Potential %': np.float64(11.423101467772815)}, 'Car': {'Valid %': np.float64(27.735849056603772), 'Potential %': np.float64(12.452830188679245)}}\n",
      "Range 2 (3km, 5 mins): {'Bike': {'Valid %': np.float64(32.29100191448628), 'Potential %': np.float64(15.315890236119975)}, 'Car': {'Valid %': np.float64(37.16981132075471), 'Potential %': np.float64(16.132075471698112)}}\n"
     ]
    }
   ],
   "source": [
    "# ---- Step 5: Calculate percentages ----\n",
    "def calc_percentage(col):\n",
    "    results = {}\n",
    "    for vehicle in [\"Bike\", \"Car\"]:\n",
    "        subset = sessions[sessions[\"vehicle_label\"] == vehicle]\n",
    "        total = len(subset)\n",
    "        if total == 0:\n",
    "            results[vehicle] = {\"Valid %\": 0, \"Potential %\": 0}\n",
    "        else:\n",
    "            valid = (subset[col] == \"Valid\").sum() / total * 100\n",
    "            potential = (subset[col] == \"Potential\").sum() / total * 100\n",
    "            results[vehicle] = {\"Valid %\": valid, \"Potential %\": potential}\n",
    "    return results\n",
    "\n",
    "range1_result = calc_percentage(\"range1_status\")\n",
    "range2_result = calc_percentage(\"range2_status\")\n",
    "\n",
    "print(\"Range 1 (2km, 3 mins):\", range1_result)\n",
    "print(\"Range 2 (3km, 5 mins):\", range2_result)"
   ]
  },
  {
   "cell_type": "code",
   "execution_count": 49,
   "id": "ce19b25e",
   "metadata": {},
   "outputs": [],
   "source": [
    "# Q5: Provide conversion rates and estimate how many zero sessions could realistically be covered each week."
   ]
  },
  {
   "cell_type": "code",
   "execution_count": 50,
   "id": "14ea4d59",
   "metadata": {},
   "outputs": [],
   "source": [
    "zero_sessions = zero_session_df.copy()"
   ]
  },
  {
   "cell_type": "code",
   "execution_count": 51,
   "id": "03755b5c",
   "metadata": {},
   "outputs": [],
   "source": [
    "sessions = zero_sessions.merge(ride_requests_df[[\"session_id\", \"matched_driver_id\"]], on=\"session_id\", how=\"left\")"
   ]
  },
  {
   "cell_type": "code",
   "execution_count": 52,
   "id": "f3cadc75",
   "metadata": {},
   "outputs": [
    {
     "data": {
      "text/html": [
       "<div>\n",
       "<style scoped>\n",
       "    .dataframe tbody tr th:only-of-type {\n",
       "        vertical-align: middle;\n",
       "    }\n",
       "\n",
       "    .dataframe tbody tr th {\n",
       "        vertical-align: top;\n",
       "    }\n",
       "\n",
       "    .dataframe thead th {\n",
       "        text-align: right;\n",
       "    }\n",
       "</style>\n",
       "<table border=\"1\" class=\"dataframe\">\n",
       "  <thead>\n",
       "    <tr style=\"text-align: right;\">\n",
       "      <th></th>\n",
       "      <th>session_id</th>\n",
       "      <th>region</th>\n",
       "      <th>vehicle_type</th>\n",
       "      <th>created_time</th>\n",
       "      <th>expired_time</th>\n",
       "      <th>matched_driver_id</th>\n",
       "    </tr>\n",
       "  </thead>\n",
       "  <tbody>\n",
       "    <tr>\n",
       "      <th>0</th>\n",
       "      <td>S1</td>\n",
       "      <td>HN Outskirt 1</td>\n",
       "      <td>6</td>\n",
       "      <td>2024-11-01 00:47:00</td>\n",
       "      <td>2024-11-01 00:50:26</td>\n",
       "      <td>D71</td>\n",
       "    </tr>\n",
       "    <tr>\n",
       "      <th>1</th>\n",
       "      <td>S1</td>\n",
       "      <td>HN Outskirt 1</td>\n",
       "      <td>6</td>\n",
       "      <td>2024-11-01 00:47:00</td>\n",
       "      <td>2024-11-01 00:50:26</td>\n",
       "      <td>D486</td>\n",
       "    </tr>\n",
       "    <tr>\n",
       "      <th>2</th>\n",
       "      <td>S1</td>\n",
       "      <td>HN Outskirt 1</td>\n",
       "      <td>6</td>\n",
       "      <td>2024-11-01 00:47:00</td>\n",
       "      <td>2024-11-01 00:50:26</td>\n",
       "      <td>D551</td>\n",
       "    </tr>\n",
       "    <tr>\n",
       "      <th>3</th>\n",
       "      <td>S2</td>\n",
       "      <td>HN Outskirt 2</td>\n",
       "      <td>3</td>\n",
       "      <td>2024-11-03 07:14:00</td>\n",
       "      <td>2024-11-03 07:22:47</td>\n",
       "      <td>D238</td>\n",
       "    </tr>\n",
       "    <tr>\n",
       "      <th>4</th>\n",
       "      <td>S3</td>\n",
       "      <td>HCM Outskirt 1</td>\n",
       "      <td>49</td>\n",
       "      <td>2024-11-02 23:06:00</td>\n",
       "      <td>2024-11-02 23:10:22</td>\n",
       "      <td>D51</td>\n",
       "    </tr>\n",
       "  </tbody>\n",
       "</table>\n",
       "</div>"
      ],
      "text/plain": [
       "  session_id          region  vehicle_type         created_time  \\\n",
       "0         S1   HN Outskirt 1             6  2024-11-01 00:47:00   \n",
       "1         S1   HN Outskirt 1             6  2024-11-01 00:47:00   \n",
       "2         S1   HN Outskirt 1             6  2024-11-01 00:47:00   \n",
       "3         S2   HN Outskirt 2             3  2024-11-03 07:14:00   \n",
       "4         S3  HCM Outskirt 1            49  2024-11-02 23:06:00   \n",
       "\n",
       "          expired_time matched_driver_id  \n",
       "0  2024-11-01 00:50:26               D71  \n",
       "1  2024-11-01 00:50:26              D486  \n",
       "2  2024-11-01 00:50:26              D551  \n",
       "3  2024-11-03 07:22:47              D238  \n",
       "4  2024-11-02 23:10:22               D51  "
      ]
     },
     "execution_count": 52,
     "metadata": {},
     "output_type": "execute_result"
    }
   ],
   "source": [
    "sessions.head()"
   ]
  },
  {
   "cell_type": "code",
   "execution_count": 53,
   "id": "a3cbeb7a",
   "metadata": {},
   "outputs": [],
   "source": [
    "# Ensure created_time is datetime\n",
    "sessions[\"created_time\"] = pd.to_datetime(sessions[\"created_time\"])\n",
    "\n",
    "# Extract week (ISO week or week-start date)\n",
    "sessions[\"week\"] = sessions[\"created_time\"].dt.to_period(\"W\").apply(lambda r: r.start_time)"
   ]
  },
  {
   "cell_type": "code",
   "execution_count": 54,
   "id": "6cbb4994",
   "metadata": {},
   "outputs": [],
   "source": [
    "# --- 1. Conversion Rate (all sessions) ---\n",
    "conversion_rate = (\n",
    "    sessions.assign(is_matched=sessions[\"matched_driver_id\"].notna())\n",
    "    .groupby(\"week\")[\"is_matched\"]\n",
    "    .mean()\n",
    "    .reset_index(name=\"conversion_rate\")\n",
    ")"
   ]
  },
  {
   "cell_type": "code",
   "execution_count": 55,
   "id": "637bb412",
   "metadata": {},
   "outputs": [
    {
     "data": {
      "text/html": [
       "<div>\n",
       "<style scoped>\n",
       "    .dataframe tbody tr th:only-of-type {\n",
       "        vertical-align: middle;\n",
       "    }\n",
       "\n",
       "    .dataframe tbody tr th {\n",
       "        vertical-align: top;\n",
       "    }\n",
       "\n",
       "    .dataframe thead th {\n",
       "        text-align: right;\n",
       "    }\n",
       "</style>\n",
       "<table border=\"1\" class=\"dataframe\">\n",
       "  <thead>\n",
       "    <tr style=\"text-align: right;\">\n",
       "      <th></th>\n",
       "      <th>week</th>\n",
       "      <th>conversion_rate</th>\n",
       "    </tr>\n",
       "  </thead>\n",
       "  <tbody>\n",
       "    <tr>\n",
       "      <th>0</th>\n",
       "      <td>2024-10-28</td>\n",
       "      <td>0.684995</td>\n",
       "    </tr>\n",
       "    <tr>\n",
       "      <th>1</th>\n",
       "      <td>2024-11-04</td>\n",
       "      <td>0.685756</td>\n",
       "    </tr>\n",
       "  </tbody>\n",
       "</table>\n",
       "</div>"
      ],
      "text/plain": [
       "        week  conversion_rate\n",
       "0 2024-10-28         0.684995\n",
       "1 2024-11-04         0.685756"
      ]
     },
     "execution_count": 55,
     "metadata": {},
     "output_type": "execute_result"
    }
   ],
   "source": [
    "conversion_rate"
   ]
  },
  {
   "cell_type": "code",
   "execution_count": 56,
   "id": "4e4e2751",
   "metadata": {},
   "outputs": [],
   "source": [
    "zero_sessions = zero_session_df.copy()"
   ]
  },
  {
   "cell_type": "code",
   "execution_count": 57,
   "id": "66a549e2",
   "metadata": {},
   "outputs": [],
   "source": [
    "session_for_coverage = zero_sessions.merge(ride_requests_df[[\"session_id\", \"matched_driver_id\"]], on=\"session_id\", how=\"left\")"
   ]
  },
  {
   "cell_type": "code",
   "execution_count": 58,
   "id": "579fe6c2",
   "metadata": {},
   "outputs": [],
   "source": [
    "# ------------------ Step 2. Define helper ------------------\n",
    "def classify_session(row, drivers, range_km, range_min):\n",
    "    \"\"\"Check if session is covered by any driver within distance + time window.\"\"\"\n",
    "    nearby = drivers[\n",
    "        (drivers[\"dropoff_time\"] >= row[\"created_time\"]) &\n",
    "        (drivers[\"dropoff_time\"] <= row[\"expired_time\"]) &\n",
    "        (drivers[\"dropoff_distance_km\"] <= range_km)\n",
    "    ]\n",
    "    return \"Covered\" if not nearby.empty else \"Not covered\""
   ]
  },
  {
   "cell_type": "code",
   "execution_count": 59,
   "id": "661931fc",
   "metadata": {},
   "outputs": [],
   "source": [
    "# ------------------ Step 3. Apply classification ------------------\n",
    "# Range 1: 2 km, 3 min\n",
    "session_for_coverage[\"range1_status\"] = session_for_coverage.apply(\n",
    "    classify_session, axis=1, drivers=drivers, range_km=2, range_min=3\n",
    ")\n",
    "\n",
    "# Range 2: 3 km, 5 min\n",
    "session_for_coverage[\"range2_status\"] = session_for_coverage.apply(\n",
    "    classify_session, axis=1, drivers=drivers, range_km=3, range_min=5\n",
    ")"
   ]
  },
  {
   "cell_type": "code",
   "execution_count": 60,
   "id": "c60621ea",
   "metadata": {},
   "outputs": [
    {
     "data": {
      "text/html": [
       "<div>\n",
       "<style scoped>\n",
       "    .dataframe tbody tr th:only-of-type {\n",
       "        vertical-align: middle;\n",
       "    }\n",
       "\n",
       "    .dataframe tbody tr th {\n",
       "        vertical-align: top;\n",
       "    }\n",
       "\n",
       "    .dataframe thead th {\n",
       "        text-align: right;\n",
       "    }\n",
       "</style>\n",
       "<table border=\"1\" class=\"dataframe\">\n",
       "  <thead>\n",
       "    <tr style=\"text-align: right;\">\n",
       "      <th></th>\n",
       "      <th>session_id</th>\n",
       "      <th>region</th>\n",
       "      <th>vehicle_type</th>\n",
       "      <th>created_time</th>\n",
       "      <th>expired_time</th>\n",
       "      <th>matched_driver_id</th>\n",
       "      <th>range1_status</th>\n",
       "      <th>range2_status</th>\n",
       "    </tr>\n",
       "  </thead>\n",
       "  <tbody>\n",
       "    <tr>\n",
       "      <th>0</th>\n",
       "      <td>S1</td>\n",
       "      <td>HN Outskirt 1</td>\n",
       "      <td>6</td>\n",
       "      <td>2024-11-01 00:47:00</td>\n",
       "      <td>2024-11-01 00:50:26</td>\n",
       "      <td>D71</td>\n",
       "      <td>Not covered</td>\n",
       "      <td>Not covered</td>\n",
       "    </tr>\n",
       "    <tr>\n",
       "      <th>1</th>\n",
       "      <td>S1</td>\n",
       "      <td>HN Outskirt 1</td>\n",
       "      <td>6</td>\n",
       "      <td>2024-11-01 00:47:00</td>\n",
       "      <td>2024-11-01 00:50:26</td>\n",
       "      <td>D486</td>\n",
       "      <td>Not covered</td>\n",
       "      <td>Not covered</td>\n",
       "    </tr>\n",
       "    <tr>\n",
       "      <th>2</th>\n",
       "      <td>S1</td>\n",
       "      <td>HN Outskirt 1</td>\n",
       "      <td>6</td>\n",
       "      <td>2024-11-01 00:47:00</td>\n",
       "      <td>2024-11-01 00:50:26</td>\n",
       "      <td>D551</td>\n",
       "      <td>Not covered</td>\n",
       "      <td>Not covered</td>\n",
       "    </tr>\n",
       "    <tr>\n",
       "      <th>3</th>\n",
       "      <td>S2</td>\n",
       "      <td>HN Outskirt 2</td>\n",
       "      <td>3</td>\n",
       "      <td>2024-11-03 07:14:00</td>\n",
       "      <td>2024-11-03 07:22:47</td>\n",
       "      <td>D238</td>\n",
       "      <td>Not covered</td>\n",
       "      <td>Not covered</td>\n",
       "    </tr>\n",
       "    <tr>\n",
       "      <th>4</th>\n",
       "      <td>S3</td>\n",
       "      <td>HCM Outskirt 1</td>\n",
       "      <td>49</td>\n",
       "      <td>2024-11-02 23:06:00</td>\n",
       "      <td>2024-11-02 23:10:22</td>\n",
       "      <td>D51</td>\n",
       "      <td>Not covered</td>\n",
       "      <td>Not covered</td>\n",
       "    </tr>\n",
       "  </tbody>\n",
       "</table>\n",
       "</div>"
      ],
      "text/plain": [
       "  session_id          region  vehicle_type         created_time  \\\n",
       "0         S1   HN Outskirt 1             6  2024-11-01 00:47:00   \n",
       "1         S1   HN Outskirt 1             6  2024-11-01 00:47:00   \n",
       "2         S1   HN Outskirt 1             6  2024-11-01 00:47:00   \n",
       "3         S2   HN Outskirt 2             3  2024-11-03 07:14:00   \n",
       "4         S3  HCM Outskirt 1            49  2024-11-02 23:06:00   \n",
       "\n",
       "          expired_time matched_driver_id range1_status range2_status  \n",
       "0  2024-11-01 00:50:26               D71   Not covered   Not covered  \n",
       "1  2024-11-01 00:50:26              D486   Not covered   Not covered  \n",
       "2  2024-11-01 00:50:26              D551   Not covered   Not covered  \n",
       "3  2024-11-03 07:22:47              D238   Not covered   Not covered  \n",
       "4  2024-11-02 23:10:22               D51   Not covered   Not covered  "
      ]
     },
     "execution_count": 60,
     "metadata": {},
     "output_type": "execute_result"
    }
   ],
   "source": [
    "session_for_coverage.head()"
   ]
  },
  {
   "cell_type": "code",
   "execution_count": 61,
   "id": "31278a34",
   "metadata": {},
   "outputs": [],
   "source": [
    "# ------------------ Step 4. Weekly coverage rate ------------------\n",
    "# Ensure created_time is datetime\n",
    "session_for_coverage[\"created_time\"] = pd.to_datetime(session_for_coverage[\"created_time\"])\n",
    "session_for_coverage[\"week\"] = session_for_coverage[\"created_time\"].dt.to_period(\"W\").dt.start_time"
   ]
  },
  {
   "cell_type": "code",
   "execution_count": 62,
   "id": "40952e22",
   "metadata": {},
   "outputs": [],
   "source": [
    "coverage_rate_range1 = (\n",
    "    session_for_coverage.assign(is_covered=session_for_coverage[\"range1_status\"].eq(\"Covered\"))\n",
    "    .groupby(\"week\")[\"is_covered\"]\n",
    "    .mean()\n",
    "    .reset_index(name=\"coverage_rate_range1\")\n",
    ")"
   ]
  },
  {
   "cell_type": "code",
   "execution_count": 63,
   "id": "17c6bd37",
   "metadata": {},
   "outputs": [
    {
     "data": {
      "text/html": [
       "<div>\n",
       "<style scoped>\n",
       "    .dataframe tbody tr th:only-of-type {\n",
       "        vertical-align: middle;\n",
       "    }\n",
       "\n",
       "    .dataframe tbody tr th {\n",
       "        vertical-align: top;\n",
       "    }\n",
       "\n",
       "    .dataframe thead th {\n",
       "        text-align: right;\n",
       "    }\n",
       "</style>\n",
       "<table border=\"1\" class=\"dataframe\">\n",
       "  <thead>\n",
       "    <tr style=\"text-align: right;\">\n",
       "      <th></th>\n",
       "      <th>week</th>\n",
       "      <th>coverage_rate_range1</th>\n",
       "    </tr>\n",
       "  </thead>\n",
       "  <tbody>\n",
       "    <tr>\n",
       "      <th>0</th>\n",
       "      <td>2024-10-28</td>\n",
       "      <td>0.380781</td>\n",
       "    </tr>\n",
       "    <tr>\n",
       "      <th>1</th>\n",
       "      <td>2024-11-04</td>\n",
       "      <td>0.349486</td>\n",
       "    </tr>\n",
       "  </tbody>\n",
       "</table>\n",
       "</div>"
      ],
      "text/plain": [
       "        week  coverage_rate_range1\n",
       "0 2024-10-28              0.380781\n",
       "1 2024-11-04              0.349486"
      ]
     },
     "execution_count": 63,
     "metadata": {},
     "output_type": "execute_result"
    }
   ],
   "source": [
    "coverage_rate_range1"
   ]
  },
  {
   "cell_type": "code",
   "execution_count": 64,
   "id": "422cad5c",
   "metadata": {},
   "outputs": [],
   "source": [
    "coverage_rate_range2 = (\n",
    "    session_for_coverage.assign(is_covered=session_for_coverage[\"range2_status\"].eq(\"Covered\"))\n",
    "    .groupby(\"week\")[\"is_covered\"]\n",
    "    .mean()\n",
    "    .reset_index(name=\"coverage_rate_range2\")\n",
    ")"
   ]
  },
  {
   "cell_type": "code",
   "execution_count": 65,
   "id": "4fc4a7fb",
   "metadata": {},
   "outputs": [
    {
     "name": "stdout",
     "output_type": "stream",
     "text": [
      "        week  coverage_rate_range1  coverage_rate_range2\n",
      "0 2024-10-28              0.380781              0.487667\n",
      "1 2024-11-04              0.349486              0.531571\n"
     ]
    }
   ],
   "source": [
    "# ------------------ Step 5. Merge for final result ------------------\n",
    "coverage_rates = pd.merge(coverage_rate_range1, coverage_rate_range2, on=\"week\", how=\"outer\")\n",
    "\n",
    "print(coverage_rates)"
   ]
  },
  {
   "cell_type": "markdown",
   "id": "2ec7ce8e",
   "metadata": {},
   "source": [
    "### Cancellation & Risk Monitoring"
   ]
  },
  {
   "cell_type": "code",
   "execution_count": 66,
   "id": "b801e2b6",
   "metadata": {},
   "outputs": [],
   "source": [
    "# Q6: Compare rider and driver cancellation rates between legacy vs forward dispatch."
   ]
  },
  {
   "cell_type": "code",
   "execution_count": 67,
   "id": "4abbc3d6",
   "metadata": {},
   "outputs": [],
   "source": [
    "ride_requests = ride_requests_df.copy()\n",
    "ride_requests[\"ride_id\"] = [\"R\" + str(i+1) for i in range(len(ride_requests))]"
   ]
  },
  {
   "cell_type": "code",
   "execution_count": 68,
   "id": "f5347b5a",
   "metadata": {},
   "outputs": [],
   "source": [
    "# Merge ride_requests with cancellations on ride_id\n",
    "requests_with_cancels = ride_requests.merge(\n",
    "    cancel_df, on=\"ride_id\", how=\"left\")"
   ]
  },
  {
   "cell_type": "code",
   "execution_count": 69,
   "id": "32d29a59",
   "metadata": {},
   "outputs": [],
   "source": [
    "# Add indicator: whether cancelled or not\n",
    "requests_with_cancels[\"is_cancelled\"] = requests_with_cancels[\"cancel_by\"].notna()"
   ]
  },
  {
   "cell_type": "code",
   "execution_count": 70,
   "id": "32bb9fc8",
   "metadata": {},
   "outputs": [],
   "source": [
    "# Total requests per dispatch_type\n",
    "total_requests = (\n",
    "    ride_requests.groupby(\"dispatch_type\")\n",
    "    .size()\n",
    "    .reset_index(name=\"total_requests\")\n",
    ")"
   ]
  },
  {
   "cell_type": "code",
   "execution_count": 71,
   "id": "5bc5d242",
   "metadata": {},
   "outputs": [],
   "source": [
    "# Cancellations grouped by dispatch_type and who cancelled\n",
    "cancel_counts = (\n",
    "    requests_with_cancels[requests_with_cancels[\"is_cancelled\"]]\n",
    "    .groupby([\"dispatch_type\", \"cancel_by\"])\n",
    "    .size()\n",
    "    .reset_index(name=\"cancel_count\")\n",
    ")"
   ]
  },
  {
   "cell_type": "code",
   "execution_count": 72,
   "id": "b96ba0e2",
   "metadata": {},
   "outputs": [
    {
     "name": "stdout",
     "output_type": "stream",
     "text": [
      "  dispatch_type cancel_by  cancel_count  total_requests  cancel_rate\n",
      "0       forward    driver           123             928     0.132543\n",
      "1       forward     rider           131             928     0.141164\n",
      "2        legacy    driver           126             872     0.144495\n",
      "3        legacy     rider           120             872     0.137615\n"
     ]
    }
   ],
   "source": [
    "# Merge and calculate rates\n",
    "cancel_rates = cancel_counts.merge(total_requests, on=\"dispatch_type\")\n",
    "cancel_rates[\"cancel_rate\"] = cancel_rates[\"cancel_count\"] / cancel_rates[\"total_requests\"]\n",
    "\n",
    "print(cancel_rates)"
   ]
  },
  {
   "cell_type": "code",
   "execution_count": 73,
   "id": "bbb5db29",
   "metadata": {},
   "outputs": [],
   "source": [
    "# Q7: Estimate how much ETA and accept distance increased (if at all) with Forward Dispatch."
   ]
  },
  {
   "cell_type": "code",
   "execution_count": 74,
   "id": "5a26448a",
   "metadata": {},
   "outputs": [],
   "source": [
    "ride_requests = ride_requests_df.copy()"
   ]
  },
  {
   "cell_type": "code",
   "execution_count": 75,
   "id": "2f7f7443",
   "metadata": {},
   "outputs": [],
   "source": [
    "# --- 1. Average ETA and Accept Distance by Dispatch Type ---\n",
    "eta_distance_summary = (\n",
    "    ride_requests.groupby(\"dispatch_type\")\n",
    "    .agg(\n",
    "        avg_eta=(\"eta\", \"mean\"),\n",
    "        median_eta=(\"eta\", \"median\"),\n",
    "        avg_accept_distance=(\"accept_distance\", \"mean\"),\n",
    "        median_accept_distance=(\"accept_distance\", \"median\"),\n",
    "        count=(\"session_id\", \"count\")\n",
    "    )\n",
    "    .reset_index()\n",
    ")"
   ]
  },
  {
   "cell_type": "code",
   "execution_count": 76,
   "id": "8185e29b",
   "metadata": {},
   "outputs": [],
   "source": [
    "# --- 2. Calculate difference (Forward - Legacy) ---\n",
    "legacy = eta_distance_summary.loc[eta_distance_summary[\"dispatch_type\"] == \"legacy\"]\n",
    "forward = eta_distance_summary.loc[eta_distance_summary[\"dispatch_type\"] == \"forward\"]"
   ]
  },
  {
   "cell_type": "code",
   "execution_count": 77,
   "id": "6fb1c974",
   "metadata": {},
   "outputs": [
    {
     "name": "stdout",
     "output_type": "stream",
     "text": [
      "ETA & Distance Summary:\n",
      "   dispatch_type   avg_eta  median_eta  avg_accept_distance  \\\n",
      "0       forward  4.948772       4.990             2.720366   \n",
      "1        legacy  5.069232       5.085             2.752282   \n",
      "\n",
      "   median_accept_distance  count  \n",
      "0                    2.71    928  \n",
      "1                    2.71    872  \n",
      "\n",
      "Increase in ETA with Forward Dispatch: -0.12\n",
      "Increase in Accept Distance with Forward Dispatch: -0.03\n"
     ]
    }
   ],
   "source": [
    "eta_diff = forward[\"avg_eta\"].values[0] - legacy[\"avg_eta\"].values[0]\n",
    "distance_diff = forward[\"avg_accept_distance\"].values[0] - legacy[\"avg_accept_distance\"].values[0]\n",
    "\n",
    "print(\"ETA & Distance Summary:\\n\", eta_distance_summary)\n",
    "print(f\"\\nIncrease in ETA with Forward Dispatch: {eta_diff:.2f}\")\n",
    "print(f\"Increase in Accept Distance with Forward Dispatch: {distance_diff:.2f}\")"
   ]
  },
  {
   "cell_type": "code",
   "execution_count": 78,
   "id": "1e079365",
   "metadata": {},
   "outputs": [],
   "source": [
    "# Suggest acceptable thresholds based on trade-offs."
   ]
  },
  {
   "cell_type": "code",
   "execution_count": 79,
   "id": "247f201b",
   "metadata": {},
   "outputs": [],
   "source": [
    "from scipy import stats\n",
    "from statsmodels.stats.proportion import proportions_ztest"
   ]
  },
  {
   "cell_type": "code",
   "execution_count": 80,
   "id": "dfe04f8b",
   "metadata": {},
   "outputs": [],
   "source": [
    "ride_requests = pd.read_csv(\"ride_requests.csv\", parse_dates=[\"dispatch_time\"])\n",
    "cancellations = pd.read_csv(\"cancellations.csv\")"
   ]
  },
  {
   "cell_type": "code",
   "execution_count": 81,
   "id": "7d530d4d",
   "metadata": {},
   "outputs": [],
   "source": [
    "# Split into legacy vs forward\n",
    "# ----------------------\n",
    "legacy = ride_requests[ride_requests[\"dispatch_type\"] == \"legacy\"]\n",
    "forward = ride_requests[ride_requests[\"dispatch_type\"] == \"forward\"]"
   ]
  },
  {
   "cell_type": "code",
   "execution_count": 82,
   "id": "3fe81a89",
   "metadata": {},
   "outputs": [
    {
     "name": "stdout",
     "output_type": "stream",
     "text": [
      "ETA t-test: TtestResult(statistic=np.float64(-1.4742959131295255), pvalue=np.float64(0.14057699589175013), df=np.float64(1798.0))\n",
      "ETA Mann-Whitney U: MannwhitneyuResult(statistic=np.float64(388332.5), pvalue=np.float64(0.13972737098251317))\n",
      "Accept Distance t-test: TtestResult(statistic=np.float64(-0.5225244460839003), pvalue=np.float64(0.6013696041194924), df=np.float64(1798.0))\n",
      "Accept Distance Mann-Whitney U: MannwhitneyuResult(statistic=np.float64(399036.0), pvalue=np.float64(0.6131631568057647))\n"
     ]
    }
   ],
   "source": [
    "# 1. ETA & Accept Distance (t-test + Mann-Whitney U)\n",
    "# ----------------------\n",
    "eta_ttest = stats.ttest_ind(forward[\"eta\"], legacy[\"eta\"], nan_policy=\"omit\")\n",
    "eta_mw = stats.mannwhitneyu(forward[\"eta\"].dropna(), legacy[\"eta\"].dropna())\n",
    "\n",
    "accept_ttest = stats.ttest_ind(forward[\"accept_distance\"], legacy[\"accept_distance\"], nan_policy=\"omit\")\n",
    "accept_mw = stats.mannwhitneyu(forward[\"accept_distance\"].dropna(), legacy[\"accept_distance\"].dropna())\n",
    "\n",
    "print(\"ETA t-test:\", eta_ttest)\n",
    "print(\"ETA Mann-Whitney U:\", eta_mw)\n",
    "print(\"Accept Distance t-test:\", accept_ttest)\n",
    "print(\"Accept Distance Mann-Whitney U:\", accept_mw)"
   ]
  },
  {
   "cell_type": "markdown",
   "id": "dfab6bf8",
   "metadata": {},
   "source": [
    "\n",
    "\n",
    "* ETA\n",
    "\n",
    "t-test p-value = 0.14\n",
    "\n",
    "Mann-Whitney p-value = 0.14\n",
    "\n",
    "👉 No statistically significant difference (p > 0.05).\n",
    "\n",
    "Mean difference = (need to check means, but statistically small).\n",
    "\n",
    "* Accept Distance\n",
    "\n",
    "t-test p-value = 0.60\n",
    "\n",
    "Mann-Whitney p-value = 0.61\n",
    "\n",
    "👉 No statistically significant difference (p > 0.05).\n",
    "\n",
    "Mean difference = likely very small."
   ]
  },
  {
   "cell_type": "markdown",
   "id": "e3aaf3a1",
   "metadata": {},
   "source": [
    "* ETA Threshold\n",
    "\n",
    "Current: No significant change.\n",
    "\n",
    "Suggested threshold: ≤ +2 minutes on average.\n",
    "\n",
    "Rationale: Users won’t notice very small changes, and we allow tolerance up to where customer satisfaction isn’t impacted.\n",
    "\n",
    "* Accept Distance Threshold\n",
    "\n",
    "Current: No significant change.\n",
    "\n",
    "Suggested threshold: ≤ +0.5 km (or +10%) compared to legacy.\n",
    "\n",
    "Rationale: Drivers may accept slightly longer pickups, but any larger increase could harm efficiency or driver experience."
   ]
  },
  {
   "cell_type": "code",
   "execution_count": null,
   "id": "31eca2b2",
   "metadata": {},
   "outputs": [],
   "source": []
  },
  {
   "cell_type": "code",
   "execution_count": null,
   "id": "f4661036",
   "metadata": {},
   "outputs": [],
   "source": []
  },
  {
   "cell_type": "code",
   "execution_count": null,
   "id": "a59accdd",
   "metadata": {},
   "outputs": [],
   "source": []
  }
 ],
 "metadata": {
  "kernelspec": {
   "display_name": "inventory",
   "language": "python",
   "name": "python3"
  },
  "language_info": {
   "codemirror_mode": {
    "name": "ipython",
    "version": 3
   },
   "file_extension": ".py",
   "mimetype": "text/x-python",
   "name": "python",
   "nbconvert_exporter": "python",
   "pygments_lexer": "ipython3",
   "version": "3.10.6"
  }
 },
 "nbformat": 4,
 "nbformat_minor": 5
}
